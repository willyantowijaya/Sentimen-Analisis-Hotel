{
 "cells": [
  {
   "cell_type": "markdown",
   "metadata": {
    "id": "eyORlTQPjkq2"
   },
   "source": [
    "# **Scraping**"
   ]
  },
  {
   "cell_type": "code",
   "execution_count": 183,
   "metadata": {
    "id": "EArZtemqjuKy"
   },
   "outputs": [],
   "source": [
    "from bs4 import BeautifulSoup\n",
    "import requests\n",
    "import numpy as np\n",
    "import pandas as pd\n",
    "from time import sleep\n",
    "from random import randint"
   ]
  },
  {
   "cell_type": "code",
   "execution_count": 227,
   "metadata": {
    "id": "w6IR3WcRj52F"
   },
   "outputs": [],
   "source": [
    "# Since the page number changes by 5 in the next url page\n",
    "page = np.arange(5, 461, 10)  \n",
    "Name = []\n",
    "Title = []\n",
    "Review = []\n",
    "Dates=[]\n",
    "\n",
    "for pages in page:\n",
    "    # for loop to collect the Mutiple Pages as defined\n",
    "    #url = 'https://www.tripadvisor.co.id/Hotel_Review-g297698-d302653-Reviews-or' + str(\n",
    "        #pages\n",
    "    #) + '-Melia_Bali-Nusa_Dua_Nusa_Dua_Peninsula_Bali.html'\n",
    "\n",
    "    url = 'https://www.tripadvisor.co.id/Hotel_Review-g297698-d5039960-Reviews-' + str(\n",
    "        pages\n",
    "    ) + 'Sofitel_Bali_Nusa_Dua_Beach_Resort-Nusa_Dua_Nusa_Dua_Peninsula_Bali.html'\n",
    "\n",
    "    # import the Url details to Python\n",
    "    req = requests.get(url, headers={'User-Agent': 'Mozilla/5.0'})\n",
    "    html = req.content\n",
    "\n",
    "    # Put it in soup\n",
    "    sleep(randint(1, 2))  \n",
    "    soup = BeautifulSoup(html, 'html.parser')\n",
    "\n",
    "    # for loop to extract Customer Names\n",
    "    for a in soup.find_all('a', class_='ui_header_link bPvDb'):\n",
    "        Name.append(a.get_text(strip=True))\n",
    "        \n",
    "    # for loop to extract Review Title\n",
    "    for a in soup.find_all('a', class_='fCitC'):\n",
    "        Title.append(a.get_text(strip=True))\n",
    "\n",
    "    # for loop to extract Reviews\n",
    "    for a in soup.find_all('q', class_='XllAv H4 _a'):\n",
    "        Review.append(a.get_text())\n",
    "\n",
    "#     # for loop to extract Review Rating\n",
    "#     for a in soup.find_all('div', class_='emWez F1'):\n",
    "#         # a.span['class'] is used to only select the span class text which has the rating ['ui_bubble_rating', 'bubble_50']\n",
    "#         Rating.append(a.span['class'])\n",
    "\n",
    "    for a in soup.findAll('div',{'class':'bcaHz'}):\n",
    "        Dates.append(a.span.text.strip()) \n",
    "\n",
    "# for i in range(len(Rating)):\n",
    "#     l = Rating[i][1]\n",
    "#     l = l[-2:]\n",
    "#     Rating[i]=int(l)/10\n",
    "#     if Rating[i]>3:\n",
    "#         Sents.append('Positive')\n",
    "#     else: Sents.append('Negative')\n",
    "\n",
    "for i in range(len(Dates)):\n",
    "    d = Dates[i]\n",
    "    Dates[i]= d[-3:]"
   ]
  },
  {
   "cell_type": "code",
   "execution_count": 198,
   "metadata": {
    "id": "k22_Gmc3j8Jp"
   },
   "outputs": [],
   "source": [
    "# len(Sents)"
   ]
  },
  {
   "cell_type": "code",
   "execution_count": 266,
   "metadata": {
    "id": "LXX8w-g8j8yc"
   },
   "outputs": [
    {
     "data": {
      "text/html": [
       "<div>\n",
       "<style scoped>\n",
       "    .dataframe tbody tr th:only-of-type {\n",
       "        vertical-align: middle;\n",
       "    }\n",
       "\n",
       "    .dataframe tbody tr th {\n",
       "        vertical-align: top;\n",
       "    }\n",
       "\n",
       "    .dataframe thead th {\n",
       "        text-align: right;\n",
       "    }\n",
       "</style>\n",
       "<table border=\"1\" class=\"dataframe\">\n",
       "  <thead>\n",
       "    <tr style=\"text-align: right;\">\n",
       "      <th></th>\n",
       "      <th>Customer_name</th>\n",
       "      <th>Date</th>\n",
       "      <th>Review_Title</th>\n",
       "      <th>Review</th>\n",
       "    </tr>\n",
       "  </thead>\n",
       "  <tbody>\n",
       "    <tr>\n",
       "      <th>0</th>\n",
       "      <td>renatha p</td>\n",
       "      <td>rin</td>\n",
       "      <td>Healing in the middle of Jun 2002</td>\n",
       "      <td>yang paling suka dari sofitel adalah akses poo...</td>\n",
       "    </tr>\n",
       "    <tr>\n",
       "      <th>1</th>\n",
       "      <td>KAY L</td>\n",
       "      <td>Jun</td>\n",
       "      <td>Family holiday</td>\n",
       "      <td>Juni 2022 kita menginap di sofitel nusa dua da...</td>\n",
       "    </tr>\n",
       "    <tr>\n",
       "      <th>2</th>\n",
       "      <td>Livia</td>\n",
       "      <td>Jun</td>\n",
       "      <td>Thank you Sofitel</td>\n",
       "      <td>Check in nya cepat dan belum waktu check in su...</td>\n",
       "    </tr>\n",
       "    <tr>\n",
       "      <th>3</th>\n",
       "      <td>Vanessa</td>\n",
       "      <td>Jun</td>\n",
       "      <td>The Best Resort and Service at Nusadua</td>\n",
       "      <td>sudah sering ke Bali dan selalu kembali ke Sof...</td>\n",
       "    </tr>\n",
       "    <tr>\n",
       "      <th>4</th>\n",
       "      <td>Shafira</td>\n",
       "      <td>Jun</td>\n",
       "      <td>Birthday trip</td>\n",
       "      <td>Check in tanggal 28 mei saat ulang tahun anak ...</td>\n",
       "    </tr>\n",
       "    <tr>\n",
       "      <th>...</th>\n",
       "      <td>...</td>\n",
       "      <td>...</td>\n",
       "      <td>...</td>\n",
       "      <td>...</td>\n",
       "    </tr>\n",
       "    <tr>\n",
       "      <th>225</th>\n",
       "      <td>renatha p</td>\n",
       "      <td>rin</td>\n",
       "      <td>Healing in the middle of Jun 2002</td>\n",
       "      <td>yang paling suka dari sofitel adalah akses poo...</td>\n",
       "    </tr>\n",
       "    <tr>\n",
       "      <th>226</th>\n",
       "      <td>KAY L</td>\n",
       "      <td>Jun</td>\n",
       "      <td>Family holiday</td>\n",
       "      <td>Juni 2022 kita menginap di sofitel nusa dua da...</td>\n",
       "    </tr>\n",
       "    <tr>\n",
       "      <th>227</th>\n",
       "      <td>Livia</td>\n",
       "      <td>Jun</td>\n",
       "      <td>Thank you Sofitel</td>\n",
       "      <td>Check in nya cepat dan belum waktu check in su...</td>\n",
       "    </tr>\n",
       "    <tr>\n",
       "      <th>228</th>\n",
       "      <td>Vanessa</td>\n",
       "      <td>Jun</td>\n",
       "      <td>The Best Resort and Service at Nusadua</td>\n",
       "      <td>sudah sering ke Bali dan selalu kembali ke Sof...</td>\n",
       "    </tr>\n",
       "    <tr>\n",
       "      <th>229</th>\n",
       "      <td>Shafira</td>\n",
       "      <td>Jun</td>\n",
       "      <td>Birthday trip</td>\n",
       "      <td>Check in tanggal 28 mei saat ulang tahun anak ...</td>\n",
       "    </tr>\n",
       "  </tbody>\n",
       "</table>\n",
       "<p>230 rows × 4 columns</p>\n",
       "</div>"
      ],
      "text/plain": [
       "    Customer_name Date                            Review_Title  \\\n",
       "0       renatha p  rin       Healing in the middle of Jun 2002   \n",
       "1           KAY L  Jun                          Family holiday   \n",
       "2           Livia  Jun                       Thank you Sofitel   \n",
       "3         Vanessa  Jun  The Best Resort and Service at Nusadua   \n",
       "4         Shafira  Jun                           Birthday trip   \n",
       "..            ...  ...                                     ...   \n",
       "225     renatha p  rin       Healing in the middle of Jun 2002   \n",
       "226         KAY L  Jun                          Family holiday   \n",
       "227         Livia  Jun                       Thank you Sofitel   \n",
       "228       Vanessa  Jun  The Best Resort and Service at Nusadua   \n",
       "229       Shafira  Jun                           Birthday trip   \n",
       "\n",
       "                                                Review  \n",
       "0    yang paling suka dari sofitel adalah akses poo...  \n",
       "1    Juni 2022 kita menginap di sofitel nusa dua da...  \n",
       "2    Check in nya cepat dan belum waktu check in su...  \n",
       "3    sudah sering ke Bali dan selalu kembali ke Sof...  \n",
       "4    Check in tanggal 28 mei saat ulang tahun anak ...  \n",
       "..                                                 ...  \n",
       "225  yang paling suka dari sofitel adalah akses poo...  \n",
       "226  Juni 2022 kita menginap di sofitel nusa dua da...  \n",
       "227  Check in nya cepat dan belum waktu check in su...  \n",
       "228  sudah sering ke Bali dan selalu kembali ke Sof...  \n",
       "229  Check in tanggal 28 mei saat ulang tahun anak ...  \n",
       "\n",
       "[230 rows x 4 columns]"
      ]
     },
     "execution_count": 266,
     "metadata": {},
     "output_type": "execute_result"
    }
   ],
   "source": [
    "# Data Frame created for teh details extracted \n",
    "df=pd.DataFrame({'Customer_name':Name,'Date': Dates, 'Review_Title':Title,'Review':Review})\n",
    "df"
   ]
  },
  {
   "cell_type": "code",
   "execution_count": 5,
   "metadata": {
    "id": "q7fbPB-YqeUu"
   },
   "outputs": [],
   "source": [
    "df.to_csv(\"hotel_reviews.csv\")"
   ]
  },
  {
   "cell_type": "markdown",
   "metadata": {
    "id": "xY7hO_h8kKXV"
   },
   "source": [
    "Scrape unames, titles, reviews, dates"
   ]
  },
  {
   "cell_type": "code",
   "execution_count": 6,
   "metadata": {
    "id": "zDQdZ3LjkIqw"
   },
   "outputs": [
    {
     "ename": "NameError",
     "evalue": "name 'links' is not defined",
     "output_type": "error",
     "traceback": [
      "\u001b[0;31m---------------------------------------------------------------------------\u001b[0m",
      "\u001b[0;31mNameError\u001b[0m                                 Traceback (most recent call last)",
      "\u001b[0;32m<ipython-input-6-630ee76b1a27>\u001b[0m in \u001b[0;36m<module>\u001b[0;34m\u001b[0m\n\u001b[1;32m     10\u001b[0m \u001b[0;31m#cnt=1\u001b[0m\u001b[0;34m\u001b[0m\u001b[0;34m\u001b[0m\u001b[0;34m\u001b[0m\u001b[0m\n\u001b[1;32m     11\u001b[0m \u001b[0;34m\u001b[0m\u001b[0m\n\u001b[0;32m---> 12\u001b[0;31m \u001b[0;32mfor\u001b[0m \u001b[0mlink\u001b[0m \u001b[0;32min\u001b[0m \u001b[0mlinks\u001b[0m \u001b[0;34m:\u001b[0m\u001b[0;34m\u001b[0m\u001b[0;34m\u001b[0m\u001b[0m\n\u001b[0m\u001b[1;32m     13\u001b[0m   \u001b[0;31m#print(cnt)\u001b[0m\u001b[0;34m\u001b[0m\u001b[0;34m\u001b[0m\u001b[0;34m\u001b[0m\u001b[0m\n\u001b[1;32m     14\u001b[0m   \u001b[0;31m#cnt++\u001b[0m\u001b[0;34m\u001b[0m\u001b[0;34m\u001b[0m\u001b[0;34m\u001b[0m\u001b[0m\n",
      "\u001b[0;31mNameError\u001b[0m: name 'links' is not defined"
     ]
    }
   ],
   "source": [
    "from random import randint\n",
    "from time import sleep\n",
    "\n",
    "unames=[]\n",
    "ratings=[]\n",
    "titles=[]\n",
    "reviews =[]\n",
    "dates=[]\n",
    "sents=[]\n",
    "#cnt=1\n",
    "\n",
    "for link in links :\n",
    "  #print(cnt)\n",
    "  #cnt++\n",
    "  d = [10,30,50,70]\n",
    "  headers = {'User-Agent' : 'Mozilla/5.0 (Windows NT 10.0; Win64; x64) AppleWebKit/537.36 (KHTML, like Gecko) Chrome/91.0.4472.124 Safari/537.36 Edg/91.0.864.59'}\n",
    "  htmls = requests.get(link.format(i for i in d),headers=headers)\n",
    "  #htmls = requests.get(link.format (i for i in d),headers=headers)\n",
    "  sleep(randint(1,2))\n",
    "  bsobj2 = soup(htmls.content,'lxml')\n",
    "  for uname in bsobj2.findAll('a',{'class':'ui_header_link bPvDb'}):\n",
    "    unames.append(uname.text.strip())\n",
    "  for rating in bsobj2.findAll('div',{'class':'emWez F1'}):\n",
    "    ratings.append(rating.span[\"class\"])\n",
    "  for title in bsobj2.findAll('a',{'class':'fCitC'}):\n",
    "    titles.append(title.text.strip()) \n",
    "  for review in bsobj2.findAll('q',{'class':'XllAv H4 _a'}):\n",
    "    reviews.append(review.text.strip())  \n",
    "  for date in bsobj2.findAll('div',{'class':'bcaHz'}):\n",
    "    dates.append(date.span.text.strip()) \n",
    "#reviews \n",
    "for i in range(len(ratings)):\n",
    "  l = ratings[i][1]\n",
    "  l = l[-2:]\n",
    "  ratings[i]=int(l)/10\n",
    "  if ratings[i]>2:\n",
    "    sents.append('Positive')\n",
    "  else: sents.append('Negative')\n",
    "#for i in range(len(dates)):\n",
    "  d=dates[i]\n",
    "  dates[i]=d[-8:]"
   ]
  },
  {
   "cell_type": "code",
   "execution_count": null,
   "metadata": {
    "colab": {
     "base_uri": "https://localhost:8080/"
    },
    "id": "iyNGzN-vA30T",
    "outputId": "a7e706a4-b8b4-46d8-fd01-7a6d27044451"
   },
   "outputs": [],
   "source": [
    "len(reviews)"
   ]
  },
  {
   "cell_type": "markdown",
   "metadata": {
    "id": "KPQ5O78MkZE1"
   },
   "source": [
    "Save to CSV"
   ]
  },
  {
   "cell_type": "code",
   "execution_count": null,
   "metadata": {
    "id": "d3eKd_20kbxt"
   },
   "outputs": [],
   "source": [
    "import pandas as pd\n",
    "\n",
    "dict={'Username':unames, 'Date':dates, 'Rating':ratings, 'Title':titles, 'Review':reviews, 'Sentimens':sents}\n",
    "#dict={'Username':unames, 'Date':dates, 'Title':titles, 'Review':reviews, 'Sentimens':sents}\n",
    "#dict={'Username':unames, 'Date':dates, 'Title':titles, 'Review':reviews}\n",
    "df = pd.DataFrame(dict)"
   ]
  },
  {
   "cell_type": "code",
   "execution_count": null,
   "metadata": {
    "id": "WzixyyEekcaM"
   },
   "outputs": [],
   "source": [
    "df.to_csv(\"test6.csv\")"
   ]
  },
  {
   "cell_type": "markdown",
   "metadata": {
    "id": "0nip3RGHgur6"
   },
   "source": [
    "# **Preprocessing**"
   ]
  },
  {
   "cell_type": "markdown",
   "metadata": {
    "id": "u2zrZMPJQm4c"
   },
   "source": [
    "Baca data"
   ]
  },
  {
   "cell_type": "code",
   "execution_count": 176,
   "metadata": {
    "colab": {
     "base_uri": "https://localhost:8080/",
     "height": 206
    },
    "id": "KOS6UreTQmFV",
    "outputId": "b1d57547-fc2b-40d3-cab3-98e597429134"
   },
   "outputs": [
    {
     "data": {
      "text/html": [
       "<div>\n",
       "<style scoped>\n",
       "    .dataframe tbody tr th:only-of-type {\n",
       "        vertical-align: middle;\n",
       "    }\n",
       "\n",
       "    .dataframe tbody tr th {\n",
       "        vertical-align: top;\n",
       "    }\n",
       "\n",
       "    .dataframe thead th {\n",
       "        text-align: right;\n",
       "    }\n",
       "</style>\n",
       "<table border=\"1\" class=\"dataframe\">\n",
       "  <thead>\n",
       "    <tr style=\"text-align: right;\">\n",
       "      <th></th>\n",
       "      <th>Unnamed: 0</th>\n",
       "      <th>Customer_name</th>\n",
       "      <th>Date</th>\n",
       "      <th>Rating</th>\n",
       "      <th>Review_Title</th>\n",
       "      <th>Review</th>\n",
       "      <th>Sentimens</th>\n",
       "    </tr>\n",
       "  </thead>\n",
       "  <tbody>\n",
       "    <tr>\n",
       "      <th>0</th>\n",
       "      <td>0</td>\n",
       "      <td>olivia w</td>\n",
       "      <td>Apr 2022</td>\n",
       "      <td>5.0</td>\n",
       "      <td>Birthday party at melia bali</td>\n",
       "      <td>nginap disana sudah sangat sering tapi bikin a...</td>\n",
       "      <td>Positive</td>\n",
       "    </tr>\n",
       "    <tr>\n",
       "      <th>1</th>\n",
       "      <td>1</td>\n",
       "      <td>Yosellino</td>\n",
       "      <td>Apr 2022</td>\n",
       "      <td>5.0</td>\n",
       "      <td>Liburan Keluarga</td>\n",
       "      <td>Liburan kali ini kita stay selama 5 hari, pool...</td>\n",
       "      <td>Positive</td>\n",
       "    </tr>\n",
       "    <tr>\n",
       "      <th>2</th>\n",
       "      <td>2</td>\n",
       "      <td>Anis S</td>\n",
       "      <td>Apr 2022</td>\n",
       "      <td>5.0</td>\n",
       "      <td>best kids club</td>\n",
       "      <td>Best Hotel for our kids, kids clubnya bagus da...</td>\n",
       "      <td>Positive</td>\n",
       "    </tr>\n",
       "    <tr>\n",
       "      <th>3</th>\n",
       "      <td>3</td>\n",
       "      <td>Anis N</td>\n",
       "      <td>Apr 2022</td>\n",
       "      <td>5.0</td>\n",
       "      <td>amizing holiday</td>\n",
       "      <td>lovely holids for our famil especially for our...</td>\n",
       "      <td>Positive</td>\n",
       "    </tr>\n",
       "    <tr>\n",
       "      <th>4</th>\n",
       "      <td>4</td>\n",
       "      <td>ohana g</td>\n",
       "      <td>Mar 2022</td>\n",
       "      <td>5.0</td>\n",
       "      <td>Nice family hotel</td>\n",
       "      <td>Kids clubnya bagus dan staffnya ramah..thank y...</td>\n",
       "      <td>Positive</td>\n",
       "    </tr>\n",
       "    <tr>\n",
       "      <th>...</th>\n",
       "      <td>...</td>\n",
       "      <td>...</td>\n",
       "      <td>...</td>\n",
       "      <td>...</td>\n",
       "      <td>...</td>\n",
       "      <td>...</td>\n",
       "      <td>...</td>\n",
       "    </tr>\n",
       "    <tr>\n",
       "      <th>2207</th>\n",
       "      <td>2207</td>\n",
       "      <td>Layback58</td>\n",
       "      <td>Jan 2011</td>\n",
       "      <td>4.0</td>\n",
       "      <td>Kualitas tinggi resor</td>\n",
       "      <td>Saya membaca ulasan setelah saya telah memesan...</td>\n",
       "      <td>Positive</td>\n",
       "    </tr>\n",
       "    <tr>\n",
       "      <th>2208</th>\n",
       "      <td>2208</td>\n",
       "      <td>henry227</td>\n",
       "      <td>Jan 2011</td>\n",
       "      <td>5.0</td>\n",
       "      <td>Fasilitas besar, sangat sen sepadan</td>\n",
       "      <td>Aku benar-benar benar-benar menikmati saya tin...</td>\n",
       "      <td>Positive</td>\n",
       "    </tr>\n",
       "    <tr>\n",
       "      <th>2209</th>\n",
       "      <td>2209</td>\n",
       "      <td>RVMNSingapore</td>\n",
       "      <td>Jan 2011</td>\n",
       "      <td>4.0</td>\n",
       "      <td>Santai liburan keluarga dengan keramahan yang ...</td>\n",
       "      <td>Kami tinggal di ruang keluarga di Melia Bali. ...</td>\n",
       "      <td>Positive</td>\n",
       "    </tr>\n",
       "    <tr>\n",
       "      <th>2210</th>\n",
       "      <td>2210</td>\n",
       "      <td>vanuatufan</td>\n",
       "      <td>Des 2010</td>\n",
       "      <td>4.0</td>\n",
       "      <td>Staf yang indah</td>\n",
       "      <td>Telah tinggal di sini berkali-kali dan staf se...</td>\n",
       "      <td>Positive</td>\n",
       "    </tr>\n",
       "    <tr>\n",
       "      <th>2211</th>\n",
       "      <td>2211</td>\n",
       "      <td>P4949</td>\n",
       "      <td>Des 2010</td>\n",
       "      <td>3.0</td>\n",
       "      <td>Kembali 15 tahun kemudian</td>\n",
       "      <td>Kami tinggal di hotel ini 15 tahun yang lalu d...</td>\n",
       "      <td>Negative</td>\n",
       "    </tr>\n",
       "  </tbody>\n",
       "</table>\n",
       "<p>2212 rows × 7 columns</p>\n",
       "</div>"
      ],
      "text/plain": [
       "      Unnamed: 0  Customer_name      Date  Rating  \\\n",
       "0              0       olivia w  Apr 2022     5.0   \n",
       "1              1      Yosellino  Apr 2022     5.0   \n",
       "2              2         Anis S  Apr 2022     5.0   \n",
       "3              3         Anis N  Apr 2022     5.0   \n",
       "4              4        ohana g  Mar 2022     5.0   \n",
       "...          ...            ...       ...     ...   \n",
       "2207        2207      Layback58  Jan 2011     4.0   \n",
       "2208        2208       henry227  Jan 2011     5.0   \n",
       "2209        2209  RVMNSingapore  Jan 2011     4.0   \n",
       "2210        2210     vanuatufan  Des 2010     4.0   \n",
       "2211        2211          P4949  Des 2010     3.0   \n",
       "\n",
       "                                           Review_Title  \\\n",
       "0                          Birthday party at melia bali   \n",
       "1                                      Liburan Keluarga   \n",
       "2                                        best kids club   \n",
       "3                                       amizing holiday   \n",
       "4                                     Nice family hotel   \n",
       "...                                                 ...   \n",
       "2207                              Kualitas tinggi resor   \n",
       "2208                Fasilitas besar, sangat sen sepadan   \n",
       "2209  Santai liburan keluarga dengan keramahan yang ...   \n",
       "2210                                    Staf yang indah   \n",
       "2211                          Kembali 15 tahun kemudian   \n",
       "\n",
       "                                                 Review Sentimens  \n",
       "0     nginap disana sudah sangat sering tapi bikin a...  Positive  \n",
       "1     Liburan kali ini kita stay selama 5 hari, pool...  Positive  \n",
       "2     Best Hotel for our kids, kids clubnya bagus da...  Positive  \n",
       "3     lovely holids for our famil especially for our...  Positive  \n",
       "4     Kids clubnya bagus dan staffnya ramah..thank y...  Positive  \n",
       "...                                                 ...       ...  \n",
       "2207  Saya membaca ulasan setelah saya telah memesan...  Positive  \n",
       "2208  Aku benar-benar benar-benar menikmati saya tin...  Positive  \n",
       "2209  Kami tinggal di ruang keluarga di Melia Bali. ...  Positive  \n",
       "2210  Telah tinggal di sini berkali-kali dan staf se...  Positive  \n",
       "2211  Kami tinggal di hotel ini 15 tahun yang lalu d...  Negative  \n",
       "\n",
       "[2212 rows x 7 columns]"
      ]
     },
     "execution_count": 176,
     "metadata": {},
     "output_type": "execute_result"
    }
   ],
   "source": [
    "import pandas as pd\n",
    "import numpy as np\n",
    "\n",
    "test_data = pd.read_csv('hotel_reviews.csv')\n",
    "\n",
    "test_data"
   ]
  },
  {
   "cell_type": "markdown",
   "metadata": {
    "id": "BiK-8zXntFmd"
   },
   "source": [
    "Library Preprocessing"
   ]
  },
  {
   "cell_type": "code",
   "execution_count": null,
   "metadata": {
    "colab": {
     "base_uri": "https://localhost:8080/"
    },
    "id": "E4ULSuqytIwp",
    "outputId": "1ccc055c-13e9-4a66-9faf-ab4de67a7bf2"
   },
   "outputs": [],
   "source": [
    "!pip install Sastrawi"
   ]
  },
  {
   "cell_type": "code",
   "execution_count": 3,
   "metadata": {
    "colab": {
     "base_uri": "https://localhost:8080/"
    },
    "id": "2QpKT5KNghn8",
    "outputId": "3ffa0666-6448-46db-ecd1-856f94551ab0"
   },
   "outputs": [
    {
     "name": "stderr",
     "output_type": "stream",
     "text": [
      "[nltk_data] Downloading package punkt to /Users/hpratama/nltk_data...\n",
      "[nltk_data]   Package punkt is already up-to-date!\n"
     ]
    },
    {
     "data": {
      "text/plain": [
       "True"
      ]
     },
     "execution_count": 3,
     "metadata": {},
     "output_type": "execute_result"
    }
   ],
   "source": [
    "import nltk\n",
    "nltk.download('punkt')"
   ]
  },
  {
   "cell_type": "code",
   "execution_count": 4,
   "metadata": {
    "id": "5UBbGPSRglGX"
   },
   "outputs": [],
   "source": [
    "import nltk #import library nltk\n",
    "from nltk.tokenize import word_tokenize #import word_tokenize for tokenizing text into words \n",
    "from nltk.tokenize import sent_tokenize #import sent_tokenize for tokenizing paragraph into sentences\n",
    "from nltk.stem.porter import PorterStemmer #import Porter Stemmer Algorithm \n",
    "from nltk.stem import WordNetLemmatizer #import WordNet lemmatizer \n",
    "from nltk.corpus import stopwords #import stopwords\n",
    "from nltk.tokenize import WordPunctTokenizer\n",
    "from Sastrawi.Stemmer.StemmerFactory import StemmerFactory #import Indonesian Stemmer\n",
    "from bs4 import BeautifulSoup\n",
    "import re #import regular expression"
   ]
  },
  {
   "cell_type": "markdown",
   "metadata": {
    "id": "hxr2QfyBg3oz"
   },
   "source": [
    "Case Folding"
   ]
  },
  {
   "cell_type": "code",
   "execution_count": null,
   "metadata": {
    "colab": {
     "base_uri": "https://localhost:8080/"
    },
    "id": "iBfma84Ug5Tr",
    "outputId": "c6210adf-aec6-4d3d-8f64-bbe16d0dda1a"
   },
   "outputs": [],
   "source": [
    "t = test_data['Review'].str.lower()\n",
    "\n",
    "print('Sebelum Case Folding : \\n')\n",
    "print(test_data['Review'].head(5))\n",
    "\n",
    "print('Sesudah Case Folding : \\n')\n",
    "print(t.head(5))"
   ]
  },
  {
   "cell_type": "markdown",
   "metadata": {
    "id": "DGacQW2Cg8uW"
   },
   "source": [
    "Tokenizing, Filtering, Stemming"
   ]
  },
  {
   "cell_type": "code",
   "execution_count": null,
   "metadata": {
    "id": "iVhH6x4F46q-"
   },
   "outputs": [],
   "source": [
    "emote = pd.read_csv('master_emoji.csv', encoding= 'unicode_escape')\n",
    "emote_drop = ['ID', 'Sentiment', 'Makna Emoji', 'Special Tag']\n",
    "emote = emote.drop(columns=emote_drop)"
   ]
  },
  {
   "cell_type": "code",
   "execution_count": null,
   "metadata": {
    "colab": {
     "base_uri": "https://localhost:8080/"
    },
    "id": "3rUjWaWT7dY5",
    "outputId": "b7ef258c-f1ed-4458-eac6-033da5a13449"
   },
   "outputs": [],
   "source": [
    "factory = StemmerFactory()\n",
    "stemmer = factory.create_stemmer()\n",
    "\n",
    "nltk.download('stopwords')\n",
    "stop_words = (stopwords.words('indonesian'))\n",
    "tok = WordPunctTokenizer()\n",
    "\n",
    "\n",
    "def proses_teks(teks):\n",
    "    soup = BeautifulSoup(teks, 'lxml')\n",
    "    souped = soup.get_text()\n",
    "    try:\n",
    "        teks = souped.decode(\"utf-8-sig\").replace(u\"\\ufffd\", \"?\")\n",
    "    except:\n",
    "        teks = souped\n",
    "    teks_bersih = ' '.join([word for word in teks.split() if word not in stop_words])\n",
    "    teks_bersih = ' '.join([word for word in teks_bersih.split() if word not in emote])\n",
    "    teks_bersih = stemmer.stem(teks_bersih)\n",
    "    return (\" \".join([x for x in tok.tokenize(teks_bersih) if len(x) > 1])).strip()"
   ]
  },
  {
   "cell_type": "code",
   "execution_count": null,
   "metadata": {
    "colab": {
     "base_uri": "https://localhost:8080/"
    },
    "id": "W__71uCr7s5c",
    "outputId": "49834398-aad2-4705-c03c-d91a5dd75af6"
   },
   "outputs": [],
   "source": [
    "data=[]\n",
    "for x in test_data.Review:\n",
    "  data.append(proses_teks(x))\n",
    "  print(len(data),'/',len(test_data))\n",
    "data"
   ]
  },
  {
   "cell_type": "code",
   "execution_count": null,
   "metadata": {
    "colab": {
     "base_uri": "https://localhost:8080/"
    },
    "id": "uf4g-_hKCfCR",
    "outputId": "90fa05e9-22ec-4635-80de-21071ed6e0a9"
   },
   "outputs": [],
   "source": [
    "test_data.Review"
   ]
  },
  {
   "cell_type": "markdown",
   "metadata": {
    "id": "T2GlUtchTZCk"
   },
   "source": [
    "Normalisasi"
   ]
  },
  {
   "cell_type": "code",
   "execution_count": null,
   "metadata": {
    "colab": {
     "base_uri": "https://localhost:8080/",
     "height": 358
    },
    "id": "1NcPNV45A0cm",
    "outputId": "824b7212-a1df-4c16-ccf2-4441151ed791"
   },
   "outputs": [],
   "source": [
    "import pandas as pd\n",
    "df = test_data\n",
    "slang = pd.read_excel('kamus.xlsx')\n",
    "df['normal'] = data\n",
    "for idx, row in slang.iterrows():\n",
    "    df['normal'] = df.normal.str.replace(r\"\\b\"+row['before']+r\"\\b\", row['after'], regex=True)"
   ]
  },
  {
   "cell_type": "code",
   "execution_count": null,
   "metadata": {
    "id": "MA7rq0QoTOIE"
   },
   "outputs": [],
   "source": [
    "df = df.drop_duplicates(subset=['normal'])"
   ]
  },
  {
   "cell_type": "code",
   "execution_count": null,
   "metadata": {
    "colab": {
     "base_uri": "https://localhost:8080/",
     "height": 624
    },
    "id": "CGywvkSziK-F",
    "outputId": "5b2ddcb6-4b45-4c47-9b2c-2f9efd728343"
   },
   "outputs": [],
   "source": [
    "df"
   ]
  },
  {
   "cell_type": "markdown",
   "metadata": {
    "id": "wxclfNvjijAa"
   },
   "source": [
    "Save Preprocessing"
   ]
  },
  {
   "cell_type": "code",
   "execution_count": null,
   "metadata": {
    "id": "1MPbCbb1ild_"
   },
   "outputs": [],
   "source": [
    "df.to_csv(\"text_preprocessing.csv\")"
   ]
  },
  {
   "cell_type": "markdown",
   "metadata": {
    "id": "fpYcuSMfew27"
   },
   "source": [
    "# **SVM**"
   ]
  },
  {
   "cell_type": "code",
   "execution_count": 13,
   "metadata": {
    "id": "hPasLdx5ewX7"
   },
   "outputs": [],
   "source": [
    "import pandas as pd\n",
    "import numpy as np\n",
    "import matplotlib.pyplot as plt"
   ]
  },
  {
   "cell_type": "code",
   "execution_count": null,
   "metadata": {
    "id": "0eb72d61fUCd"
   },
   "outputs": [],
   "source": [
    "df = test_data"
   ]
  },
  {
   "cell_type": "code",
   "execution_count": 5,
   "metadata": {
    "colab": {
     "base_uri": "https://localhost:8080/",
     "height": 624
    },
    "id": "ERJ-rSJHii6X",
    "outputId": "7fa4bd04-a3e6-4147-c3f2-54c6aaae5c0b"
   },
   "outputs": [],
   "source": [
    "df = pd.read_csv('Text_Preprocessing.csv')"
   ]
  },
  {
   "cell_type": "markdown",
   "metadata": {
    "id": "sKPR2Ozpfeoo"
   },
   "source": [
    "SVM Data Prepocessing"
   ]
  },
  {
   "cell_type": "code",
   "execution_count": 6,
   "metadata": {
    "id": "2tYYfvM7fiiG"
   },
   "outputs": [],
   "source": [
    "X = df['Review']\n",
    "y = df['Sentimens']"
   ]
  },
  {
   "cell_type": "code",
   "execution_count": 7,
   "metadata": {
    "colab": {
     "base_uri": "https://localhost:8080/",
     "height": 658
    },
    "id": "jjeI4dEvi5Do",
    "outputId": "aa085934-1dc3-4281-bdff-1df53ea648a3"
   },
   "outputs": [
    {
     "data": {
      "text/html": [
       "<div>\n",
       "<style scoped>\n",
       "    .dataframe tbody tr th:only-of-type {\n",
       "        vertical-align: middle;\n",
       "    }\n",
       "\n",
       "    .dataframe tbody tr th {\n",
       "        vertical-align: top;\n",
       "    }\n",
       "\n",
       "    .dataframe thead th {\n",
       "        text-align: right;\n",
       "    }\n",
       "</style>\n",
       "<table border=\"1\" class=\"dataframe\">\n",
       "  <thead>\n",
       "    <tr style=\"text-align: right;\">\n",
       "      <th></th>\n",
       "      <th>Unnamed: 0</th>\n",
       "      <th>Unnamed: 0.1</th>\n",
       "      <th>Customer_name</th>\n",
       "      <th>Date</th>\n",
       "      <th>Rating</th>\n",
       "      <th>Review_Title</th>\n",
       "      <th>Review</th>\n",
       "      <th>Sentimens</th>\n",
       "      <th>normal</th>\n",
       "    </tr>\n",
       "  </thead>\n",
       "  <tbody>\n",
       "    <tr>\n",
       "      <th>62</th>\n",
       "      <td>62</td>\n",
       "      <td>62</td>\n",
       "      <td>bastianchayadi</td>\n",
       "      <td>Des 2020</td>\n",
       "      <td>3.0</td>\n",
       "      <td>Protokol kesehatan</td>\n",
       "      <td>Pertama datang, semua protokol kesehatan baik....</td>\n",
       "      <td>Negative</td>\n",
       "      <td>pertama datang protokol sehat baik begitu ting...</td>\n",
       "    </tr>\n",
       "    <tr>\n",
       "      <th>71</th>\n",
       "      <td>71</td>\n",
       "      <td>71</td>\n",
       "      <td>lisbet s</td>\n",
       "      <td>Nov 2020</td>\n",
       "      <td>3.0</td>\n",
       "      <td>Tidak Ramah dengan Tamu Domestik</td>\n",
       "      <td>Saya menginap 4 malam disini, tapi sangat kece...</td>\n",
       "      <td>Negative</td>\n",
       "      <td>saya inap malam sini kecewa restauran room ser...</td>\n",
       "    </tr>\n",
       "    <tr>\n",
       "      <th>97</th>\n",
       "      <td>97</td>\n",
       "      <td>97</td>\n",
       "      <td>jhonatanchan</td>\n",
       "      <td>Jun 2017</td>\n",
       "      <td>3.0</td>\n",
       "      <td>hotel yang indah</td>\n",
       "      <td>saya sangat senang dengan hotel ini, berada di...</td>\n",
       "      <td>Negative</td>\n",
       "      <td>senang hotel ini city center bandara pantai in...</td>\n",
       "    </tr>\n",
       "    <tr>\n",
       "      <th>133</th>\n",
       "      <td>133</td>\n",
       "      <td>133</td>\n",
       "      <td>rizzz911</td>\n",
       "      <td>Jan 2015</td>\n",
       "      <td>3.0</td>\n",
       "      <td>Pengalaman tidak menyenangkan</td>\n",
       "      <td>Untuk staff cukup ramah, walaupun tidak banyak...</td>\n",
       "      <td>Negative</td>\n",
       "      <td>untuk staff ramah bantu sebal ketuk kamar paks...</td>\n",
       "    </tr>\n",
       "    <tr>\n",
       "      <th>138</th>\n",
       "      <td>138</td>\n",
       "      <td>138</td>\n",
       "      <td>Jimmy Franklin A</td>\n",
       "      <td>Jul 2014</td>\n",
       "      <td>3.0</td>\n",
       "      <td>Hotel untuk Liburan Keluarga</td>\n",
       "      <td>Sangat cocok untuk liburan dengan anak2, kalau...</td>\n",
       "      <td>Negative</td>\n",
       "      <td>sangat cocok libur anak2 kamar mandi family ro...</td>\n",
       "    </tr>\n",
       "    <tr>\n",
       "      <th>...</th>\n",
       "      <td>...</td>\n",
       "      <td>...</td>\n",
       "      <td>...</td>\n",
       "      <td>...</td>\n",
       "      <td>...</td>\n",
       "      <td>...</td>\n",
       "      <td>...</td>\n",
       "      <td>...</td>\n",
       "      <td>...</td>\n",
       "    </tr>\n",
       "    <tr>\n",
       "      <th>2193</th>\n",
       "      <td>2193</td>\n",
       "      <td>2193</td>\n",
       "      <td>andrewh_11</td>\n",
       "      <td>Feb 2011</td>\n",
       "      <td>2.0</td>\n",
       "      <td>Iklan palsu</td>\n",
       "      <td>Hotel diiklankan sebagai memiliki berenang sam...</td>\n",
       "      <td>Negative</td>\n",
       "      <td>hotel iklan milik renang bar benar saya diberi...</td>\n",
       "    </tr>\n",
       "    <tr>\n",
       "      <th>2199</th>\n",
       "      <td>2199</td>\n",
       "      <td>2199</td>\n",
       "      <td>CanarioViajero</td>\n",
       "      <td>Feb 2011</td>\n",
       "      <td>3.0</td>\n",
       "      <td>Hotel bagus, tapi mulai mendapatkan lama!</td>\n",
       "      <td>Meliá adalah salah satu hotel murah di kawasan...</td>\n",
       "      <td>Negative</td>\n",
       "      <td>mel salah hotel murah kawasan nusa dua namun k...</td>\n",
       "    </tr>\n",
       "    <tr>\n",
       "      <th>2200</th>\n",
       "      <td>2200</td>\n",
       "      <td>2200</td>\n",
       "      <td>Kaja R</td>\n",
       "      <td>Feb 2011</td>\n",
       "      <td>3.0</td>\n",
       "      <td>Jika Anda dapat mampu ruang terbaik tinggal di...</td>\n",
       "      <td>Kami telah memesan 2 kamar superior tapi tidak...</td>\n",
       "      <td>Negative</td>\n",
       "      <td>kami mes kamar superior unggul itu bau kuat ap...</td>\n",
       "    </tr>\n",
       "    <tr>\n",
       "      <th>2204</th>\n",
       "      <td>2204</td>\n",
       "      <td>2204</td>\n",
       "      <td>holidayitisAustralia</td>\n",
       "      <td>Jan 2011</td>\n",
       "      <td>3.0</td>\n",
       "      <td>Lokasi yang baik, kamar lelah, benar-benar rat...</td>\n",
       "      <td>Aku baru saja kembali dari seminggu di Melia B...</td>\n",
       "      <td>Negative</td>\n",
       "      <td>aku minggu melia bal sementara fasilitas baik ...</td>\n",
       "    </tr>\n",
       "    <tr>\n",
       "      <th>2211</th>\n",
       "      <td>2211</td>\n",
       "      <td>2211</td>\n",
       "      <td>P4949</td>\n",
       "      <td>Des 2010</td>\n",
       "      <td>3.0</td>\n",
       "      <td>Kembali 15 tahun kemudian</td>\n",
       "      <td>Kami tinggal di hotel ini 15 tahun yang lalu d...</td>\n",
       "      <td>Negative</td>\n",
       "      <td>kami tinggal hotel 15 ubah banyak hotel bagus ...</td>\n",
       "    </tr>\n",
       "  </tbody>\n",
       "</table>\n",
       "<p>284 rows × 9 columns</p>\n",
       "</div>"
      ],
      "text/plain": [
       "      Unnamed: 0  Unnamed: 0.1         Customer_name      Date  Rating  \\\n",
       "62            62            62        bastianchayadi  Des 2020     3.0   \n",
       "71            71            71              lisbet s  Nov 2020     3.0   \n",
       "97            97            97          jhonatanchan  Jun 2017     3.0   \n",
       "133          133           133              rizzz911  Jan 2015     3.0   \n",
       "138          138           138      Jimmy Franklin A  Jul 2014     3.0   \n",
       "...          ...           ...                   ...       ...     ...   \n",
       "2193        2193          2193            andrewh_11  Feb 2011     2.0   \n",
       "2199        2199          2199        CanarioViajero  Feb 2011     3.0   \n",
       "2200        2200          2200                Kaja R  Feb 2011     3.0   \n",
       "2204        2204          2204  holidayitisAustralia  Jan 2011     3.0   \n",
       "2211        2211          2211                 P4949  Des 2010     3.0   \n",
       "\n",
       "                                           Review_Title  \\\n",
       "62                                   Protokol kesehatan   \n",
       "71                     Tidak Ramah dengan Tamu Domestik   \n",
       "97                                     hotel yang indah   \n",
       "133                       Pengalaman tidak menyenangkan   \n",
       "138                        Hotel untuk Liburan Keluarga   \n",
       "...                                                 ...   \n",
       "2193                                        Iklan palsu   \n",
       "2199          Hotel bagus, tapi mulai mendapatkan lama!   \n",
       "2200  Jika Anda dapat mampu ruang terbaik tinggal di...   \n",
       "2204  Lokasi yang baik, kamar lelah, benar-benar rat...   \n",
       "2211                          Kembali 15 tahun kemudian   \n",
       "\n",
       "                                                 Review Sentimens  \\\n",
       "62    Pertama datang, semua protokol kesehatan baik....  Negative   \n",
       "71    Saya menginap 4 malam disini, tapi sangat kece...  Negative   \n",
       "97    saya sangat senang dengan hotel ini, berada di...  Negative   \n",
       "133   Untuk staff cukup ramah, walaupun tidak banyak...  Negative   \n",
       "138   Sangat cocok untuk liburan dengan anak2, kalau...  Negative   \n",
       "...                                                 ...       ...   \n",
       "2193  Hotel diiklankan sebagai memiliki berenang sam...  Negative   \n",
       "2199  Meliá adalah salah satu hotel murah di kawasan...  Negative   \n",
       "2200  Kami telah memesan 2 kamar superior tapi tidak...  Negative   \n",
       "2204  Aku baru saja kembali dari seminggu di Melia B...  Negative   \n",
       "2211  Kami tinggal di hotel ini 15 tahun yang lalu d...  Negative   \n",
       "\n",
       "                                                 normal  \n",
       "62    pertama datang protokol sehat baik begitu ting...  \n",
       "71    saya inap malam sini kecewa restauran room ser...  \n",
       "97    senang hotel ini city center bandara pantai in...  \n",
       "133   untuk staff ramah bantu sebal ketuk kamar paks...  \n",
       "138   sangat cocok libur anak2 kamar mandi family ro...  \n",
       "...                                                 ...  \n",
       "2193  hotel iklan milik renang bar benar saya diberi...  \n",
       "2199  mel salah hotel murah kawasan nusa dua namun k...  \n",
       "2200  kami mes kamar superior unggul itu bau kuat ap...  \n",
       "2204  aku minggu melia bal sementara fasilitas baik ...  \n",
       "2211  kami tinggal hotel 15 ubah banyak hotel bagus ...  \n",
       "\n",
       "[284 rows x 9 columns]"
      ]
     },
     "execution_count": 7,
     "metadata": {},
     "output_type": "execute_result"
    }
   ],
   "source": [
    "df[df.Sentimens=='Negative']"
   ]
  },
  {
   "cell_type": "code",
   "execution_count": 8,
   "metadata": {
    "id": "M71bdrcZfm7L"
   },
   "outputs": [],
   "source": [
    "from sklearn.model_selection import train_test_split\n",
    "X_train, X_test, y_train, y_test = train_test_split(X, y, test_size = 0.20)"
   ]
  },
  {
   "cell_type": "markdown",
   "metadata": {
    "id": "xK-pMJ4dfrPW"
   },
   "source": [
    "Training Data"
   ]
  },
  {
   "cell_type": "code",
   "execution_count": 9,
   "metadata": {
    "colab": {
     "base_uri": "https://localhost:8080/"
    },
    "id": "L933N_X7kk32",
    "outputId": "b74cd099-6a99-48d7-daa0-321c3b153db3"
   },
   "outputs": [
    {
     "data": {
      "text/plain": [
       "1179    Positive\n",
       "1800    Positive\n",
       "320     Negative\n",
       "1058    Negative\n",
       "748     Positive\n",
       "          ...   \n",
       "2201    Positive\n",
       "1992    Negative\n",
       "2199    Negative\n",
       "804     Positive\n",
       "1294    Positive\n",
       "Name: Sentimens, Length: 1769, dtype: object"
      ]
     },
     "execution_count": 9,
     "metadata": {},
     "output_type": "execute_result"
    }
   ],
   "source": [
    "y_train"
   ]
  },
  {
   "cell_type": "code",
   "execution_count": 10,
   "metadata": {
    "id": "NGSL5PXgfq1x"
   },
   "outputs": [],
   "source": [
    "from sklearn.pipeline import Pipeline\n",
    "from sklearn.svm import SVC\n",
    "from sklearn.feature_extraction.text import TfidfVectorizer\n",
    "tf= TfidfVectorizer()\n",
    "svc = SVC(kernel='linear')\n",
    "model= Pipeline([('vectorizer', tf), ('classifier', svc)])\n",
    "model.fit(X_train, y_train)\n",
    "result= model.predict(X_test) "
   ]
  },
  {
   "cell_type": "code",
   "execution_count": 292,
   "metadata": {},
   "outputs": [],
   "source": [
    "import pickle"
   ]
  },
  {
   "cell_type": "code",
   "execution_count": 293,
   "metadata": {},
   "outputs": [],
   "source": [
    "pickle.dump(model, open('model.pkl', 'wb'))"
   ]
  },
  {
   "cell_type": "code",
   "execution_count": 20,
   "metadata": {
    "colab": {
     "base_uri": "https://localhost:8080/"
    },
    "id": "-m9b3L0nVxtI",
    "outputId": "a7b39cb2-0079-4df7-b564-a3ec8168aa83"
   },
   "outputs": [
    {
     "name": "stdout",
     "output_type": "stream",
     "text": [
      "              precision    recall  f1-score   support\n",
      "\n",
      "    Negative       0.89      0.26      0.41        61\n",
      "    Positive       0.89      0.99      0.94       382\n",
      "\n",
      "    accuracy                           0.89       443\n",
      "   macro avg       0.89      0.63      0.67       443\n",
      "weighted avg       0.89      0.89      0.87       443\n",
      "\n"
     ]
    }
   ],
   "source": [
    "from sklearn.metrics import classification_report\n",
    "report=classification_report(y_test, result)\n",
    "print(report)"
   ]
  },
  {
   "cell_type": "code",
   "execution_count": 14,
   "metadata": {
    "colab": {
     "base_uri": "https://localhost:8080/",
     "height": 214
    },
    "id": "sUUYIyubedE5",
    "outputId": "561674cc-2f50-4ca8-eaa8-4e99048f2cb8"
   },
   "outputs": [
    {
     "data": {
      "image/png": "[encoded data removed]",
      "text/plain": [
       "<Figure size 432x288 with 1 Axes>"
      ]
     },
     "metadata": {
      "needs_background": "light"
     },
     "output_type": "display_data"
    }
   ],
   "source": [
    "from wordcloud import WordCloud\n",
    "from wordcloud import STOPWORDS\n",
    " \n",
    "# Wordcloud with positive tweets\n",
    "positive_tweets = df['Review'][df[\"Sentimens\"] == 'Positive']\n",
    "stop_words = [\"https\", \"co\", \"RT\"] + list(STOPWORDS)\n",
    "positive_wordcloud = WordCloud(max_font_size=50, max_words=100, background_color=\"white\", stopwords = stop_words).generate(str(positive_tweets))\n",
    "plt.figure()\n",
    "plt.title(\"Positive Tweets - Wordcloud\")\n",
    "plt.imshow(positive_wordcloud, interpolation=\"bilinear\")\n",
    "plt.axis(\"off\")\n",
    "plt.show()"
   ]
  },
  {
   "cell_type": "code",
   "execution_count": 15,
   "metadata": {
    "colab": {
     "base_uri": "https://localhost:8080/",
     "height": 214
    },
    "id": "jh6F-UOae9FL",
    "outputId": "6b9405b2-ac11-45ca-9734-092c8dd2edee"
   },
   "outputs": [
    {
     "data": {
      "image/png": "[encoded data removed]",
      "text/plain": [
       "<Figure size 432x288 with 1 Axes>"
      ]
     },
     "metadata": {
      "needs_background": "light"
     },
     "output_type": "display_data"
    }
   ],
   "source": [
    "# Wordcloud with negative tweets\n",
    "negative_tweets = df['Review'][df[\"Sentimens\"] == 'Negative']\n",
    "stop_words = [\"https\", \"co\", \"RT\"] + list(STOPWORDS)\n",
    "negative_wordcloud = WordCloud(max_font_size=50, max_words=100, background_color=\"white\", stopwords = stop_words).generate(str(negative_tweets))\n",
    "plt.figure()\n",
    "plt.title(\"Negative Tweets - Wordcloud\")\n",
    "plt.imshow(negative_wordcloud, interpolation=\"bilinear\")\n",
    "plt.axis(\"off\")\n",
    "plt.show()"
   ]
  },
  {
   "cell_type": "markdown",
   "metadata": {
    "id": "yHmLVVjwfwgx"
   },
   "source": [
    "Predictions"
   ]
  },
  {
   "cell_type": "code",
   "execution_count": 21,
   "metadata": {
    "id": "FflJitrefyzx"
   },
   "outputs": [],
   "source": [
    "y_pred = model.predict(X_test)"
   ]
  },
  {
   "cell_type": "code",
   "execution_count": 22,
   "metadata": {
    "id": "5510fiAff4eE"
   },
   "outputs": [
    {
     "name": "stdout",
     "output_type": "stream",
     "text": [
      "[[ 16  45]\n",
      " [  2 380]]\n",
      "              precision    recall  f1-score   support\n",
      "\n",
      "    Negative       0.89      0.26      0.41        61\n",
      "    Positive       0.89      0.99      0.94       382\n",
      "\n",
      "    accuracy                           0.89       443\n",
      "   macro avg       0.89      0.63      0.67       443\n",
      "weighted avg       0.89      0.89      0.87       443\n",
      "\n"
     ]
    }
   ],
   "source": [
    "from sklearn.metrics import classification_report, confusion_matrix\n",
    "print(confusion_matrix(y_test,y_pred))\n",
    "print(classification_report(y_test,y_pred))"
   ]
  },
  {
   "cell_type": "code",
   "execution_count": 95,
   "metadata": {},
   "outputs": [],
   "source": [
    "import seaborn as sns\n",
    "import matplotlib.pyplot as plt"
   ]
  },
  {
   "cell_type": "code",
   "execution_count": 83,
   "metadata": {},
   "outputs": [],
   "source": [
    "df = pd.read_csv('hotel_reviews.csv')"
   ]
  },
  {
   "cell_type": "code",
   "execution_count": 206,
   "metadata": {},
   "outputs": [],
   "source": [
    "def to_month(date):\n",
    "    date = date.split(' ')\n",
    "    month = date[0]\n",
    "    year = '2022'\n",
    "    \n",
    "    if month == 'Mei':\n",
    "        return ' '.join(['May']+[year])\n",
    "    elif month == 'Agu':\n",
    "        return ' '.join(['Aug']+[year])\n",
    "    elif month == 'Okt':\n",
    "        return ' '.join(['Oct']+[year])\n",
    "    elif month == 'Des':\n",
    "        return ' '.join(['Dec']+[year])\n",
    "    elif month == 'rin':\n",
    "        return np.nan\n",
    "    else:\n",
    "        return ' '.join([month]+[year])"
   ]
  },
  {
   "cell_type": "code",
   "execution_count": 207,
   "metadata": {},
   "outputs": [],
   "source": [
    "df['Date'] = pd.to_datetime(df['Date'].apply(to_month)).dt.strftime('%m-%Y')"
   ]
  },
  {
   "cell_type": "code",
   "execution_count": 209,
   "metadata": {},
   "outputs": [],
   "source": [
    "df.dropna(inplace=True)"
   ]
  },
  {
   "cell_type": "code",
   "execution_count": 213,
   "metadata": {},
   "outputs": [],
   "source": [
    "df['Sentimens']=model.predict(df.Review)"
   ]
  },
  {
   "cell_type": "code",
   "execution_count": 214,
   "metadata": {},
   "outputs": [],
   "source": [
    "# nama_hotel = 'Sofitel'\n",
    "# df_result = df[df['Review'].str.contains(nama_hotel.lower())].append(df[df['Review'].str.contains(nama_hotel)])\n",
    "# df_result"
   ]
  },
  {
   "cell_type": "code",
   "execution_count": 215,
   "metadata": {},
   "outputs": [],
   "source": [
    "data_neg = [len(df[df['Sentimens']=='Negative']), len(df)-len(df[df['Sentimens']=='Negative'])]\n",
    "data_pos = [len(df[df['Sentimens']=='Positive']), len(df)-len(df[df['Sentimens']=='Positive'])]\n",
    "labels_neg = ['Negative', ' ']\n",
    "labels_pos = ['Positive', ' ']\n",
    "colors = sns.color_palette('pastel')[0:2]"
   ]
  },
  {
   "cell_type": "code",
   "execution_count": 216,
   "metadata": {},
   "outputs": [
    {
     "data": {
      "image/png": "[encoded data removed]",
      "text/plain": [
       "<Figure size 432x288 with 1 Axes>"
      ]
     },
     "metadata": {},
     "output_type": "display_data"
    }
   ],
   "source": [
    "plt.pie(data_neg, labels = labels_neg, colors = colors, autopct='%.0f%%')\n",
    "centre_circle = plt.Circle((0,0),0.50,fc='white')\n",
    "fig = plt.gcf()\n",
    "fig.gca().add_artist(centre_circle)\n",
    "plt.show()"
   ]
  },
  {
   "cell_type": "code",
   "execution_count": 217,
   "metadata": {},
   "outputs": [
    {
     "data": {
      "image/png": "[encoded data removed]",
      "text/plain": [
       "<Figure size 432x288 with 1 Axes>"
      ]
     },
     "metadata": {},
     "output_type": "display_data"
    }
   ],
   "source": [
    "plt.pie(data_pos, labels = labels_pos, colors = colors, autopct='%.0f%%')\n",
    "centre_circle = plt.Circle((0,0),0.50,fc='white')\n",
    "fig = plt.gcf()\n",
    "fig.gca().add_artist(centre_circle)\n",
    "plt.show()"
   ]
  },
  {
   "cell_type": "code",
   "execution_count": 219,
   "metadata": {},
   "outputs": [
    {
     "data": {
      "image/png": "[encoded data removed]",
      "text/plain": [
       "<Figure size 1368x720 with 1 Axes>"
      ]
     },
     "metadata": {
      "needs_background": "light"
     },
     "output_type": "display_data"
    }
   ],
   "source": [
    "pos_tot = []\n",
    "neg_tot = []\n",
    "for i, j in df.groupby('Date'):\n",
    "    pos_tot.append(len(j[j['Sentimens']=='Positive']))\n",
    "    neg_tot.append(len(j[j['Sentimens']=='Negative']))\n",
    "plt.figure(figsize=(19, 10))\n",
    "plt.plot(df.Date.unique(), pos_tot, label='Positive', color='blue')\n",
    "plt.plot(df.Date.unique(), neg_tot, label='Negative', color='red')\n",
    "plt.legend()\n",
    "plt.xticks(rotation=90)\n",
    "plt.show()"
   ]
  },
  {
   "cell_type": "code",
   "execution_count": 59,
   "metadata": {},
   "outputs": [
    {
     "data": {
      "text/plain": [
       "0       Apr\n",
       "1       Apr\n",
       "2       Apr\n",
       "3       Apr\n",
       "4       Mar\n",
       "       ... \n",
       "2207    Jan\n",
       "2208    Jan\n",
       "2209    Jan\n",
       "2210    Des\n",
       "2211    Des\n",
       "Name: Date, Length: 2212, dtype: object"
      ]
     },
     "execution_count": 59,
     "metadata": {},
     "output_type": "execute_result"
    }
   ],
   "source": [
    "df['Date'].apply(lambda x: x.split(' ')[0])"
   ]
  },
  {
   "cell_type": "code",
   "execution_count": 221,
   "metadata": {},
   "outputs": [
    {
     "data": {
      "text/plain": [
       "1    06\n",
       "2    06\n",
       "3    06\n",
       "4    06\n",
       "6    06\n",
       "Name: Date, dtype: object"
      ]
     },
     "execution_count": 221,
     "metadata": {},
     "output_type": "execute_result"
    }
   ],
   "source": [
    "df['Date'].head()"
   ]
  },
  {
   "cell_type": "code",
   "execution_count": 80,
   "metadata": {},
   "outputs": [
    {
     "data": {
      "text/plain": [
       "0       Apr 2022\n",
       "1       Apr 2022\n",
       "2       Apr 2022\n",
       "3       Apr 2022\n",
       "4       Mar 2022\n",
       "          ...   \n",
       "2207    Jan 2011\n",
       "2208    Jan 2011\n",
       "2209    Jan 2011\n",
       "2210    Dec 2010\n",
       "2211    Dec 2010\n",
       "Name: Date, Length: 2212, dtype: object"
      ]
     },
     "execution_count": 80,
     "metadata": {},
     "output_type": "execute_result"
    }
   ],
   "source": []
  },
  {
   "cell_type": "code",
   "execution_count": 82,
   "metadata": {},
   "outputs": [
    {
     "data": {
      "text/plain": [
       "0       04-2022\n",
       "1       04-2022\n",
       "2       04-2022\n",
       "3       04-2022\n",
       "4       03-2022\n",
       "         ...   \n",
       "2207    01-2011\n",
       "2208    01-2011\n",
       "2209    01-2011\n",
       "2210    12-2010\n",
       "2211    12-2010\n",
       "Name: Date, Length: 2212, dtype: object"
      ]
     },
     "execution_count": 82,
     "metadata": {},
     "output_type": "execute_result"
    }
   ],
   "source": []
  },
  {
   "cell_type": "code",
   "execution_count": 175,
   "metadata": {},
   "outputs": [],
   "source": [
    "from bs4 import BeautifulSoup\n",
    "import requests\n",
    "import pandas as pd\n",
    "import numpy as np\n",
    "from selenium import webdriver\n",
    "from selenium.webdriver.common.action_chains import ActionChains\n",
    "from webdriver_manager.chrome import ChromeDriverManager\n",
    "import mysql.connector"
   ]
  },
  {
   "cell_type": "code",
   "execution_count": 224,
   "metadata": {},
   "outputs": [
    {
     "data": {
      "text/html": [
       "<div>\n",
       "<style scoped>\n",
       "    .dataframe tbody tr th:only-of-type {\n",
       "        vertical-align: middle;\n",
       "    }\n",
       "\n",
       "    .dataframe tbody tr th {\n",
       "        vertical-align: top;\n",
       "    }\n",
       "\n",
       "    .dataframe thead th {\n",
       "        text-align: right;\n",
       "    }\n",
       "</style>\n",
       "<table border=\"1\" class=\"dataframe\">\n",
       "  <thead>\n",
       "    <tr style=\"text-align: right;\">\n",
       "      <th></th>\n",
       "      <th>Customer_name</th>\n",
       "      <th>Date</th>\n",
       "      <th>Review_Title</th>\n",
       "      <th>Review</th>\n",
       "    </tr>\n",
       "  </thead>\n",
       "  <tbody>\n",
       "    <tr>\n",
       "      <th>0</th>\n",
       "      <td>renatha p</td>\n",
       "      <td>rin</td>\n",
       "      <td>Healing in the middle of Jun 2002</td>\n",
       "      <td>yang paling suka dari sofitel adalah akses poo...</td>\n",
       "    </tr>\n",
       "    <tr>\n",
       "      <th>1</th>\n",
       "      <td>KAY L</td>\n",
       "      <td>Jun</td>\n",
       "      <td>Family holiday</td>\n",
       "      <td>Juni 2022 kita menginap di sofitel nusa dua da...</td>\n",
       "    </tr>\n",
       "    <tr>\n",
       "      <th>2</th>\n",
       "      <td>Livia</td>\n",
       "      <td>Jun</td>\n",
       "      <td>Thank you Sofitel</td>\n",
       "      <td>Check in nya cepat dan belum waktu check in su...</td>\n",
       "    </tr>\n",
       "    <tr>\n",
       "      <th>3</th>\n",
       "      <td>Vanessa</td>\n",
       "      <td>Jun</td>\n",
       "      <td>The Best Resort and Service at Nusadua</td>\n",
       "      <td>sudah sering ke Bali dan selalu kembali ke Sof...</td>\n",
       "    </tr>\n",
       "    <tr>\n",
       "      <th>4</th>\n",
       "      <td>Shafira</td>\n",
       "      <td>Jun</td>\n",
       "      <td>Birthday trip</td>\n",
       "      <td>Check in tanggal 28 mei saat ulang tahun anak ...</td>\n",
       "    </tr>\n",
       "    <tr>\n",
       "      <th>...</th>\n",
       "      <td>...</td>\n",
       "      <td>...</td>\n",
       "      <td>...</td>\n",
       "      <td>...</td>\n",
       "    </tr>\n",
       "    <tr>\n",
       "      <th>1275</th>\n",
       "      <td>renatha p</td>\n",
       "      <td>rin</td>\n",
       "      <td>Healing in the middle of Jun 2002</td>\n",
       "      <td>yang paling suka dari sofitel adalah akses poo...</td>\n",
       "    </tr>\n",
       "    <tr>\n",
       "      <th>1276</th>\n",
       "      <td>KAY L</td>\n",
       "      <td>Jun</td>\n",
       "      <td>Family holiday</td>\n",
       "      <td>Juni 2022 kita menginap di sofitel nusa dua da...</td>\n",
       "    </tr>\n",
       "    <tr>\n",
       "      <th>1277</th>\n",
       "      <td>Livia</td>\n",
       "      <td>Jun</td>\n",
       "      <td>Thank you Sofitel</td>\n",
       "      <td>Check in nya cepat dan belum waktu check in su...</td>\n",
       "    </tr>\n",
       "    <tr>\n",
       "      <th>1278</th>\n",
       "      <td>Vanessa</td>\n",
       "      <td>Jun</td>\n",
       "      <td>The Best Resort and Service at Nusadua</td>\n",
       "      <td>sudah sering ke Bali dan selalu kembali ke Sof...</td>\n",
       "    </tr>\n",
       "    <tr>\n",
       "      <th>1279</th>\n",
       "      <td>Shafira</td>\n",
       "      <td>Jun</td>\n",
       "      <td>Birthday trip</td>\n",
       "      <td>Check in tanggal 28 mei saat ulang tahun anak ...</td>\n",
       "    </tr>\n",
       "  </tbody>\n",
       "</table>\n",
       "<p>1280 rows × 4 columns</p>\n",
       "</div>"
      ],
      "text/plain": [
       "     Customer_name Date                            Review_Title  \\\n",
       "0        renatha p  rin       Healing in the middle of Jun 2002   \n",
       "1            KAY L  Jun                          Family holiday   \n",
       "2            Livia  Jun                       Thank you Sofitel   \n",
       "3          Vanessa  Jun  The Best Resort and Service at Nusadua   \n",
       "4          Shafira  Jun                           Birthday trip   \n",
       "...            ...  ...                                     ...   \n",
       "1275     renatha p  rin       Healing in the middle of Jun 2002   \n",
       "1276         KAY L  Jun                          Family holiday   \n",
       "1277         Livia  Jun                       Thank you Sofitel   \n",
       "1278       Vanessa  Jun  The Best Resort and Service at Nusadua   \n",
       "1279       Shafira  Jun                           Birthday trip   \n",
       "\n",
       "                                                 Review  \n",
       "0     yang paling suka dari sofitel adalah akses poo...  \n",
       "1     Juni 2022 kita menginap di sofitel nusa dua da...  \n",
       "2     Check in nya cepat dan belum waktu check in su...  \n",
       "3     sudah sering ke Bali dan selalu kembali ke Sof...  \n",
       "4     Check in tanggal 28 mei saat ulang tahun anak ...  \n",
       "...                                                 ...  \n",
       "1275  yang paling suka dari sofitel adalah akses poo...  \n",
       "1276  Juni 2022 kita menginap di sofitel nusa dua da...  \n",
       "1277  Check in nya cepat dan belum waktu check in su...  \n",
       "1278  sudah sering ke Bali dan selalu kembali ke Sof...  \n",
       "1279  Check in tanggal 28 mei saat ulang tahun anak ...  \n",
       "\n",
       "[1280 rows x 4 columns]"
      ]
     },
     "execution_count": 224,
     "metadata": {},
     "output_type": "execute_result"
    }
   ],
   "source": [
    "df"
   ]
  },
  {
   "cell_type": "code",
   "execution_count": 226,
   "metadata": {},
   "outputs": [
    {
     "data": {
      "text/plain": [
       "array([  5,  15,  25,  35,  45,  55,  65,  75,  85,  95, 105, 115, 125,\n",
       "       135, 145, 155, 165, 175, 185, 195, 205, 215, 225, 235, 245, 255,\n",
       "       265, 275, 285, 295, 305, 315, 325, 335, 345, 355, 365, 375, 385,\n",
       "       395, 405, 415, 425, 435, 445, 455])"
      ]
     },
     "execution_count": 226,
     "metadata": {},
     "output_type": "execute_result"
    }
   ],
   "source": [
    "np.arange(5, 461, 10)"
   ]
  },
  {
   "cell_type": "code",
   "execution_count": 230,
   "metadata": {},
   "outputs": [],
   "source": [
    "# https://www.tripadvisor.co.id/Hotel_Review-g297698-d5039960-Reviews-Sofitel_Bali_Nusa_Dua_Beach_Resort-Nusa_Dua_Nusa_Dua_Peninsula_Bali.html\n",
    "\n",
    "\n",
    "\n",
    "\n"
   ]
  },
  {
   "cell_type": "code",
   "execution_count": 233,
   "metadata": {},
   "outputs": [],
   "source": [
    "df_list = pd.DataFrame({'nama':['sofitel'],\n",
    "              'link':['https://www.tripadvisor.co.id/Hotel_Review-g297698-d5039960-Reviews-Sofitel_Bali_Nusa_Dua_Beach_Resort-Nusa_Dua_Nusa_Dua_Peninsula_Bali.html']})"
   ]
  },
  {
   "cell_type": "code",
   "execution_count": 294,
   "metadata": {
    "scrolled": false
   },
   "outputs": [
    {
     "data": {
      "text/html": [
       "<div>\n",
       "<style scoped>\n",
       "    .dataframe tbody tr th:only-of-type {\n",
       "        vertical-align: middle;\n",
       "    }\n",
       "\n",
       "    .dataframe tbody tr th {\n",
       "        vertical-align: top;\n",
       "    }\n",
       "\n",
       "    .dataframe thead th {\n",
       "        text-align: right;\n",
       "    }\n",
       "</style>\n",
       "<table border=\"1\" class=\"dataframe\">\n",
       "  <thead>\n",
       "    <tr style=\"text-align: right;\">\n",
       "      <th></th>\n",
       "      <th>Customer_name</th>\n",
       "      <th>Date</th>\n",
       "      <th>Review_Title</th>\n",
       "      <th>Review</th>\n",
       "      <th>Sentimens</th>\n",
       "    </tr>\n",
       "  </thead>\n",
       "  <tbody>\n",
       "    <tr>\n",
       "      <th>0</th>\n",
       "      <td>Dayu Praba</td>\n",
       "      <td>05-2022</td>\n",
       "      <td>Liburan singkat dan sangat terkesan</td>\n",
       "      <td>Luxury hotel liburan yang singkat dan sangat t...</td>\n",
       "      <td>Positive</td>\n",
       "    </tr>\n",
       "    <tr>\n",
       "      <th>1</th>\n",
       "      <td>Hady H</td>\n",
       "      <td>05-2022</td>\n",
       "      <td>Family Holiday</td>\n",
       "      <td>Hotel nya besar dan bagus, saya check in denga...</td>\n",
       "      <td>Positive</td>\n",
       "    </tr>\n",
       "    <tr>\n",
       "      <th>2</th>\n",
       "      <td>Nancy</td>\n",
       "      <td>05-2022</td>\n",
       "      <td>Family holiday</td>\n",
       "      <td>Hotel bagus, kamar besar.. ada beach club di b...</td>\n",
       "      <td>Positive</td>\n",
       "    </tr>\n",
       "    <tr>\n",
       "      <th>3</th>\n",
       "      <td>Sarahsnn0908</td>\n",
       "      <td>05-2022</td>\n",
       "      <td>Kids Villa at Sofitel</td>\n",
       "      <td>Sofitel sangat ramai dan selalu digemari Kami ...</td>\n",
       "      <td>Positive</td>\n",
       "    </tr>\n",
       "    <tr>\n",
       "      <th>4</th>\n",
       "      <td>Yuniardy</td>\n",
       "      <td>05-2022</td>\n",
       "      <td>Sofitel</td>\n",
       "      <td>Fasilitas di sana lengkap, ada kolam renang, j...</td>\n",
       "      <td>Positive</td>\n",
       "    </tr>\n",
       "    <tr>\n",
       "      <th>...</th>\n",
       "      <td>...</td>\n",
       "      <td>...</td>\n",
       "      <td>...</td>\n",
       "      <td>...</td>\n",
       "      <td>...</td>\n",
       "    </tr>\n",
       "    <tr>\n",
       "      <th>525</th>\n",
       "      <td>Benjamin P</td>\n",
       "      <td>01-2022</td>\n",
       "      <td>Stay 6D / 5N during pandemic</td>\n",
       "      <td>Awal kami bertiga bimbang menginap akibat beru...</td>\n",
       "      <td>Positive</td>\n",
       "    </tr>\n",
       "    <tr>\n",
       "      <th>526</th>\n",
       "      <td>Wilson W</td>\n",
       "      <td>01-2022</td>\n",
       "      <td>Kecewa berat</td>\n",
       "      <td>Pengiritan yang dilakukan hotel membuat sofite...</td>\n",
       "      <td>Positive</td>\n",
       "    </tr>\n",
       "    <tr>\n",
       "      <th>527</th>\n",
       "      <td>Marcelino S</td>\n",
       "      <td>12-2022</td>\n",
       "      <td>SERVICE PALING BURUK</td>\n",
       "      <td>saat saya reserve via telfon, saya dijanjikan ...</td>\n",
       "      <td>Positive</td>\n",
       "    </tr>\n",
       "    <tr>\n",
       "      <th>528</th>\n",
       "      <td>suryadi H Ruspandi</td>\n",
       "      <td>12-2022</td>\n",
       "      <td>Liburan yg singkat</td>\n",
       "      <td>Menginap untuk 2 malam, anak anak senang bange...</td>\n",
       "      <td>Positive</td>\n",
       "    </tr>\n",
       "    <tr>\n",
       "      <th>529</th>\n",
       "      <td>Nurul F</td>\n",
       "      <td>12-2022</td>\n",
       "      <td>Happy Holiday in Bali With Kids club</td>\n",
       "      <td>Kita sangat senang dan bahagia dapat berkunjun...</td>\n",
       "      <td>Positive</td>\n",
       "    </tr>\n",
       "  </tbody>\n",
       "</table>\n",
       "<p>530 rows × 5 columns</p>\n",
       "</div>"
      ],
      "text/plain": [
       "          Customer_name     Date                          Review_Title  \\\n",
       "0            Dayu Praba  05-2022   Liburan singkat dan sangat terkesan   \n",
       "1                Hady H  05-2022                        Family Holiday   \n",
       "2                 Nancy  05-2022                        Family holiday   \n",
       "3          Sarahsnn0908  05-2022                 Kids Villa at Sofitel   \n",
       "4              Yuniardy  05-2022                               Sofitel   \n",
       "..                  ...      ...                                   ...   \n",
       "525          Benjamin P  01-2022          Stay 6D / 5N during pandemic   \n",
       "526            Wilson W  01-2022                          Kecewa berat   \n",
       "527         Marcelino S  12-2022                  SERVICE PALING BURUK   \n",
       "528  suryadi H Ruspandi  12-2022                    Liburan yg singkat   \n",
       "529             Nurul F  12-2022  Happy Holiday in Bali With Kids club   \n",
       "\n",
       "                                                Review Sentimens  \n",
       "0    Luxury hotel liburan yang singkat dan sangat t...  Positive  \n",
       "1    Hotel nya besar dan bagus, saya check in denga...  Positive  \n",
       "2    Hotel bagus, kamar besar.. ada beach club di b...  Positive  \n",
       "3    Sofitel sangat ramai dan selalu digemari Kami ...  Positive  \n",
       "4    Fasilitas di sana lengkap, ada kolam renang, j...  Positive  \n",
       "..                                                 ...       ...  \n",
       "525  Awal kami bertiga bimbang menginap akibat beru...  Positive  \n",
       "526  Pengiritan yang dilakukan hotel membuat sofite...  Positive  \n",
       "527  saat saya reserve via telfon, saya dijanjikan ...  Positive  \n",
       "528  Menginap untuk 2 malam, anak anak senang bange...  Positive  \n",
       "529  Kita sangat senang dan bahagia dapat berkunjun...  Positive  \n",
       "\n",
       "[530 rows x 5 columns]"
      ]
     },
     "metadata": {},
     "output_type": "display_data"
    },
    {
     "data": {
      "image/png": "[encoded data removed]",
      "text/plain": [
       "<Figure size 432x288 with 1 Axes>"
      ]
     },
     "metadata": {},
     "output_type": "display_data"
    },
    {
     "data": {
      "image/png": "[encoded data removed]",
      "text/plain": [
       "<Figure size 432x288 with 1 Axes>"
      ]
     },
     "metadata": {},
     "output_type": "display_data"
    },
    {
     "data": {
      "image/png": "[encoded data removed]",
      "text/plain": [
       "<Figure size 1368x720 with 1 Axes>"
      ]
     },
     "metadata": {
      "needs_background": "light"
     },
     "output_type": "display_data"
    }
   ],
   "source": [
    "# nama_hotel = 'sofitel'\n",
    "\n",
    "# df_list = pd.DataFrame({'nama':['sofitel'],\n",
    "#               'link':['https://www.tripadvisor.co.id/Hotel_Review-g297698-d5039960-Reviews-Sofitel_Bali_Nusa_Dua_Beach_Resort-Nusa_Dua_Nusa_Dua_Peninsula_Bali.html']})\n",
    "\n",
    "model = pickle.load(open('model.pkl', 'rb'))\n",
    "url_split = df_list[df_list['nama']==nama_hotel]['link'][0].split('-')\n",
    "\n",
    "pages = np.arange(5, 111, 1)  \n",
    "Name = []\n",
    "Title = []\n",
    "Review = []\n",
    "Dates=[]\n",
    "\n",
    "for page in pages:\n",
    "    url = '-'.join([url_split[0], url_split[1], url_split[2], url_split[3], f'or{page}', url_split[4], url_split[5]])    # import the Url details to Python\n",
    "    req = requests.get(url, headers={'User-Agent': 'Mozilla/5.0'})\n",
    "    html = req.content\n",
    "    # Put it in soup\n",
    "    sleep(randint(1, 2))  \n",
    "    soup = BeautifulSoup(html, 'html.parser')\n",
    "    # for loop to extract Customer Names\n",
    "    for a in soup.find_all('a', class_='ui_header_link bPvDb'):\n",
    "        Name.append(a.get_text(strip=True))\n",
    "    # for loop to extract Review Title\n",
    "    for a in soup.find_all('a', class_='fCitC'):\n",
    "        Title.append(a.get_text(strip=True))\n",
    "    # for loop to extract Reviews\n",
    "    for a in soup.find_all('q', class_='XllAv H4 _a'):\n",
    "        Review.append(a.get_text())\n",
    "    for a in soup.findAll('div',{'class':'bcaHz'}):\n",
    "        Dates.append(a.span.text.strip()) \n",
    "        \n",
    "for i in range(len(Dates)):\n",
    "    d = Dates[i]\n",
    "    Dates[i]= d[-8:]\n",
    "\n",
    "df = pd.DataFrame({'Customer_name':Name,'Date': Dates, 'Review_Title':Title,'Review':Review})\n",
    "\n",
    "def to_month(date):\n",
    "    date = date.split(' ')\n",
    "    month = date[0]\n",
    "    year = '2022'  \n",
    "    if month == 'Mei':\n",
    "        return ' '.join(['May', year])\n",
    "    elif month == 'Agu':\n",
    "        return ' '.join(['Aug', year])\n",
    "    elif month == 'Okt':\n",
    "        return ' '.join(['Oct', year])\n",
    "    elif month == 'Des':\n",
    "        return ' '.join(['Dec', year])\n",
    "    elif month == 'rin':\n",
    "        return np.nan\n",
    "    else:\n",
    "        return ' '.join([month, year])\n",
    "\n",
    "df['Date'] = pd.to_datetime(df['Date'].apply(to_month)).dt.strftime('%m-%Y')\n",
    "df.dropna(inplace=True)\n",
    "\n",
    "df['Sentimens'] = model.predict(df.Review)\n",
    "display(df)\n",
    "\n",
    "data_neg = [len(df[df['Sentimens']=='Negative']), len(df)-len(df[df['Sentimens']=='Negative'])]\n",
    "data_pos = [len(df[df['Sentimens']=='Positive']), len(df)-len(df[df['Sentimens']=='Positive'])]\n",
    "labels_neg = ['Negative', ' ']\n",
    "labels_pos = ['Positive', ' ']\n",
    "colors = sns.color_palette('pastel')[0:2]\n",
    "fig, ax = plt.subplots(1, 2, figsize=(10, 4))\n",
    "ax[0].pie(data_pos, labels = labels_pos, colors = colors, autopct='%.0f%%')\n",
    "centre_circle = plt.Circle((0,0),0.50,fc='white')\n",
    "ax[0].add_artist(centre_circle)\n",
    "ax[1].pie(data_neg, labels = labels_neg, colors = colors, autopct='%.0f%%')\n",
    "centre_circle = plt.Circle((0,0),0.50,fc='white')\n",
    "ax[1].add_artist(centre_circle)\n",
    "\n",
    "pos_tot = []\n",
    "neg_tot = []\n",
    "for i, j in df.groupby('Date'):\n",
    "    pos_tot.append(len(j[j['Sentimens']=='Positive']))\n",
    "    neg_tot.append(len(j[j['Sentimens']=='Negative']))\n",
    "\n",
    "fig, ax = plt.subplots(figsize=(10, 4))\n",
    "ax.plot(df.Date.unique(), pos_tot, label='Positive', color='blue')\n",
    "ax.plot(df.Date.unique(), neg_tot, label='Negative', color='red')\n",
    "ax.legend()\n",
    "plt.setp(ax.get_xticklabels(), rotation=70, horizontalalignment='right')\n",
    "plt.show()"
   ]
  },
  {
   "cell_type": "code",
   "execution_count": 318,
   "metadata": {},
   "outputs": [
    {
     "data": {
      "image/png": "[encoded data removed]",
      "text/plain": [
       "<Figure size 720x288 with 2 Axes>"
      ]
     },
     "metadata": {},
     "output_type": "display_data"
    },
    {
     "data": {
      "image/png": "[encoded data removed]",
      "text/plain": [
       "<Figure size 720x288 with 1 Axes>"
      ]
     },
     "metadata": {
      "needs_background": "light"
     },
     "output_type": "display_data"
    }
   ],
   "source": [
    "data_neg = [len(df[df['Sentimens']=='Negative']), len(df)-len(df[df['Sentimens']=='Negative'])]\n",
    "data_pos = [len(df[df['Sentimens']=='Positive']), len(df)-len(df[df['Sentimens']=='Positive'])]\n",
    "labels_neg = ['Negative', ' ']\n",
    "labels_pos = ['Positive', ' ']\n",
    "colors = sns.color_palette('pastel')[0:2]\n",
    "fig, ax = plt.subplots(1, 2, figsize=(10, 4))\n",
    "ax[0].pie(data_pos, labels = labels_pos, colors = colors, autopct='%.0f%%')\n",
    "centre_circle = plt.Circle((0,0),0.50,fc='white')\n",
    "ax[0].add_artist(centre_circle)\n",
    "ax[1].pie(data_neg, labels = labels_neg, colors = colors, autopct='%.0f%%')\n",
    "centre_circle = plt.Circle((0,0),0.50,fc='white')\n",
    "ax[1].add_artist(centre_circle)\n",
    "\n",
    "pos_tot = []\n",
    "neg_tot = []\n",
    "for i, j in df.groupby('Date'):\n",
    "    pos_tot.append(len(j[j['Sentimens']=='Positive']))\n",
    "    neg_tot.append(len(j[j['Sentimens']=='Negative']))\n",
    "\n",
    "fig, ax = plt.subplots(figsize=(10, 4))\n",
    "ax.plot(df.Date.unique(), pos_tot, label='Positive', color='blue')\n",
    "ax.plot(df.Date.unique(), neg_tot, label='Negative', color='red')\n",
    "ax.legend()\n",
    "plt.setp(ax.get_xticklabels(), rotation=70, horizontalalignment='right')\n",
    "plt.show()"
   ]
  },
  {
   "cell_type": "code",
   "execution_count": null,
   "metadata": {},
   "outputs": [],
   "source": []
  },
  {
   "cell_type": "code",
   "execution_count": 277,
   "metadata": {},
   "outputs": [
    {
     "data": {
      "text/html": [
       "<div>\n",
       "<style scoped>\n",
       "    .dataframe tbody tr th:only-of-type {\n",
       "        vertical-align: middle;\n",
       "    }\n",
       "\n",
       "    .dataframe tbody tr th {\n",
       "        vertical-align: top;\n",
       "    }\n",
       "\n",
       "    .dataframe thead th {\n",
       "        text-align: right;\n",
       "    }\n",
       "</style>\n",
       "<table border=\"1\" class=\"dataframe\">\n",
       "  <thead>\n",
       "    <tr style=\"text-align: right;\">\n",
       "      <th></th>\n",
       "      <th>Customer_name</th>\n",
       "      <th>Date</th>\n",
       "      <th>Review_Title</th>\n",
       "      <th>Review</th>\n",
       "    </tr>\n",
       "  </thead>\n",
       "  <tbody>\n",
       "    <tr>\n",
       "      <th>0</th>\n",
       "      <td>Dayu Praba</td>\n",
       "      <td>022</td>\n",
       "      <td>Liburan singkat dan sangat terkesan</td>\n",
       "      <td>Luxury hotel liburan yang singkat dan sangat t...</td>\n",
       "    </tr>\n",
       "    <tr>\n",
       "      <th>1</th>\n",
       "      <td>Hady H</td>\n",
       "      <td>022</td>\n",
       "      <td>Family Holiday</td>\n",
       "      <td>Hotel nya besar dan bagus, saya check in denga...</td>\n",
       "    </tr>\n",
       "    <tr>\n",
       "      <th>2</th>\n",
       "      <td>Nancy</td>\n",
       "      <td>022</td>\n",
       "      <td>Family holiday</td>\n",
       "      <td>Hotel bagus, kamar besar.. ada beach club di b...</td>\n",
       "    </tr>\n",
       "    <tr>\n",
       "      <th>3</th>\n",
       "      <td>Sarahsnn0908</td>\n",
       "      <td>022</td>\n",
       "      <td>Kids Villa at Sofitel</td>\n",
       "      <td>Sofitel sangat ramai dan selalu digemari Kami ...</td>\n",
       "    </tr>\n",
       "    <tr>\n",
       "      <th>4</th>\n",
       "      <td>Yuniardy</td>\n",
       "      <td>022</td>\n",
       "      <td>Sofitel</td>\n",
       "      <td>Fasilitas di sana lengkap, ada kolam renang, j...</td>\n",
       "    </tr>\n",
       "    <tr>\n",
       "      <th>...</th>\n",
       "      <td>...</td>\n",
       "      <td>...</td>\n",
       "      <td>...</td>\n",
       "      <td>...</td>\n",
       "    </tr>\n",
       "    <tr>\n",
       "      <th>210</th>\n",
       "      <td>js7375</td>\n",
       "      <td>017</td>\n",
       "      <td>Hotel favorit di Bali</td>\n",
       "      <td>Hotel yang sangat bagus. Bukan yang paling mur...</td>\n",
       "    </tr>\n",
       "    <tr>\n",
       "      <th>211</th>\n",
       "      <td>annarosana</td>\n",
       "      <td>017</td>\n",
       "      <td>Luar Biasa</td>\n",
       "      <td>Kami tinggal di sebuah suite dan memiliki pela...</td>\n",
       "    </tr>\n",
       "    <tr>\n",
       "      <th>212</th>\n",
       "      <td>TME77</td>\n",
       "      <td>017</td>\n",
       "      <td>Rata-Rata</td>\n",
       "      <td>Saya telah ke beberapa resor bintang 5 seberan...</td>\n",
       "    </tr>\n",
       "    <tr>\n",
       "      <th>213</th>\n",
       "      <td>KwokChing</td>\n",
       "      <td>017</td>\n",
       "      <td>Pemandangan yang bagus</td>\n",
       "      <td>Kamar dan pemandangan yang indah, pertama kali...</td>\n",
       "    </tr>\n",
       "    <tr>\n",
       "      <th>214</th>\n",
       "      <td>Elisa B</td>\n",
       "      <td>017</td>\n",
       "      <td>Tempat yang indah!</td>\n",
       "      <td>Kami tinggal di sini selama bulan madu kami. H...</td>\n",
       "    </tr>\n",
       "  </tbody>\n",
       "</table>\n",
       "<p>215 rows × 4 columns</p>\n",
       "</div>"
      ],
      "text/plain": [
       "    Customer_name Date                         Review_Title  \\\n",
       "0      Dayu Praba  022  Liburan singkat dan sangat terkesan   \n",
       "1          Hady H  022                       Family Holiday   \n",
       "2           Nancy  022                       Family holiday   \n",
       "3    Sarahsnn0908  022                Kids Villa at Sofitel   \n",
       "4        Yuniardy  022                              Sofitel   \n",
       "..            ...  ...                                  ...   \n",
       "210        js7375  017                Hotel favorit di Bali   \n",
       "211    annarosana  017                           Luar Biasa   \n",
       "212         TME77  017                            Rata-Rata   \n",
       "213     KwokChing  017               Pemandangan yang bagus   \n",
       "214       Elisa B  017                   Tempat yang indah!   \n",
       "\n",
       "                                                Review  \n",
       "0    Luxury hotel liburan yang singkat dan sangat t...  \n",
       "1    Hotel nya besar dan bagus, saya check in denga...  \n",
       "2    Hotel bagus, kamar besar.. ada beach club di b...  \n",
       "3    Sofitel sangat ramai dan selalu digemari Kami ...  \n",
       "4    Fasilitas di sana lengkap, ada kolam renang, j...  \n",
       "..                                                 ...  \n",
       "210  Hotel yang sangat bagus. Bukan yang paling mur...  \n",
       "211  Kami tinggal di sebuah suite dan memiliki pela...  \n",
       "212  Saya telah ke beberapa resor bintang 5 seberan...  \n",
       "213  Kamar dan pemandangan yang indah, pertama kali...  \n",
       "214  Kami tinggal di sini selama bulan madu kami. H...  \n",
       "\n",
       "[215 rows x 4 columns]"
      ]
     },
     "execution_count": 277,
     "metadata": {},
     "output_type": "execute_result"
    }
   ],
   "source": [
    "df = pd.DataFrame({'Customer_name':Name,'Date': Dates, 'Review_Title':Title,'Review':Review})\n",
    "df"
   ]
  },
  {
   "cell_type": "code",
   "execution_count": 264,
   "metadata": {},
   "outputs": [
    {
     "data": {
      "text/plain": [
       "'https://www.tripadvisor.co.id/Hotel_Review-g297698-d5039960-Reviews-or5-Sofitel_Bali_Nusa_Dua_Beach_Resort-Nusa_Dua_Nusa_Dua_Peninsula_Bali.html'"
      ]
     },
     "execution_count": 264,
     "metadata": {},
     "output_type": "execute_result"
    }
   ],
   "source": []
  },
  {
   "cell_type": "code",
   "execution_count": 1,
   "metadata": {},
   "outputs": [
    {
     "ename": "KeyError",
     "evalue": "0",
     "output_type": "error",
     "traceback": [
      "\u001b[0;31m---------------------------------------------------------------------------\u001b[0m",
      "\u001b[0;31mKeyError\u001b[0m                                  Traceback (most recent call last)",
      "\u001b[0;32m~/opt/miniconda3/envs/freelance/lib/python3.7/site-packages/pandas/core/indexes/base.py\u001b[0m in \u001b[0;36mget_loc\u001b[0;34m(self, key, method, tolerance)\u001b[0m\n\u001b[1;32m   3079\u001b[0m             \u001b[0;32mtry\u001b[0m\u001b[0;34m:\u001b[0m\u001b[0;34m\u001b[0m\u001b[0;34m\u001b[0m\u001b[0m\n\u001b[0;32m-> 3080\u001b[0;31m                 \u001b[0;32mreturn\u001b[0m \u001b[0mself\u001b[0m\u001b[0;34m.\u001b[0m\u001b[0m_engine\u001b[0m\u001b[0;34m.\u001b[0m\u001b[0mget_loc\u001b[0m\u001b[0;34m(\u001b[0m\u001b[0mcasted_key\u001b[0m\u001b[0;34m)\u001b[0m\u001b[0;34m\u001b[0m\u001b[0;34m\u001b[0m\u001b[0m\n\u001b[0m\u001b[1;32m   3081\u001b[0m             \u001b[0;32mexcept\u001b[0m \u001b[0mKeyError\u001b[0m \u001b[0;32mas\u001b[0m \u001b[0merr\u001b[0m\u001b[0;34m:\u001b[0m\u001b[0;34m\u001b[0m\u001b[0;34m\u001b[0m\u001b[0m\n",
      "\u001b[0;32mpandas/_libs/index.pyx\u001b[0m in \u001b[0;36mpandas._libs.index.IndexEngine.get_loc\u001b[0;34m()\u001b[0m\n",
      "\u001b[0;32mpandas/_libs/index.pyx\u001b[0m in \u001b[0;36mpandas._libs.index.IndexEngine.get_loc\u001b[0;34m()\u001b[0m\n",
      "\u001b[0;32mpandas/_libs/hashtable_class_helper.pxi\u001b[0m in \u001b[0;36mpandas._libs.hashtable.Int64HashTable.get_item\u001b[0;34m()\u001b[0m\n",
      "\u001b[0;32mpandas/_libs/hashtable_class_helper.pxi\u001b[0m in \u001b[0;36mpandas._libs.hashtable.Int64HashTable.get_item\u001b[0;34m()\u001b[0m\n",
      "\u001b[0;31mKeyError\u001b[0m: 0",
      "\nThe above exception was the direct cause of the following exception:\n",
      "\u001b[0;31mKeyError\u001b[0m                                  Traceback (most recent call last)",
      "\u001b[0;32m<ipython-input-1-85f291d8314f>\u001b[0m in \u001b[0;36m<module>\u001b[0;34m\u001b[0m\n\u001b[1;32m     16\u001b[0m \u001b[0;34m\u001b[0m\u001b[0m\n\u001b[1;32m     17\u001b[0m \u001b[0;32mif\u001b[0m \u001b[0mnama_hotel\u001b[0m\u001b[0;34m:\u001b[0m\u001b[0;34m\u001b[0m\u001b[0;34m\u001b[0m\u001b[0m\n\u001b[0;32m---> 18\u001b[0;31m     \u001b[0murl_split\u001b[0m \u001b[0;34m=\u001b[0m \u001b[0mdf_list\u001b[0m\u001b[0;34m[\u001b[0m\u001b[0mdf_list\u001b[0m\u001b[0;34m[\u001b[0m\u001b[0;34m'nama'\u001b[0m\u001b[0;34m]\u001b[0m\u001b[0;34m==\u001b[0m\u001b[0mnama_hotel\u001b[0m\u001b[0;34m]\u001b[0m\u001b[0;34m[\u001b[0m\u001b[0;34m'link'\u001b[0m\u001b[0;34m]\u001b[0m\u001b[0;34m[\u001b[0m\u001b[0;36m0\u001b[0m\u001b[0;34m]\u001b[0m\u001b[0;34m.\u001b[0m\u001b[0msplit\u001b[0m\u001b[0;34m(\u001b[0m\u001b[0;34m'-'\u001b[0m\u001b[0;34m)\u001b[0m\u001b[0;34m\u001b[0m\u001b[0;34m\u001b[0m\u001b[0m\n\u001b[0m\u001b[1;32m     19\u001b[0m     \u001b[0mpages\u001b[0m \u001b[0;34m=\u001b[0m \u001b[0mnp\u001b[0m\u001b[0;34m.\u001b[0m\u001b[0marange\u001b[0m\u001b[0;34m(\u001b[0m\u001b[0;36m5\u001b[0m\u001b[0;34m,\u001b[0m \u001b[0;36m111\u001b[0m\u001b[0;34m,\u001b[0m \u001b[0;36m1\u001b[0m\u001b[0;34m)\u001b[0m\u001b[0;34m\u001b[0m\u001b[0;34m\u001b[0m\u001b[0m\n\u001b[1;32m     20\u001b[0m     \u001b[0mName\u001b[0m \u001b[0;34m=\u001b[0m \u001b[0;34m[\u001b[0m\u001b[0;34m]\u001b[0m\u001b[0;34m\u001b[0m\u001b[0;34m\u001b[0m\u001b[0m\n",
      "\u001b[0;32m~/opt/miniconda3/envs/freelance/lib/python3.7/site-packages/pandas/core/series.py\u001b[0m in \u001b[0;36m__getitem__\u001b[0;34m(self, key)\u001b[0m\n\u001b[1;32m    851\u001b[0m \u001b[0;34m\u001b[0m\u001b[0m\n\u001b[1;32m    852\u001b[0m         \u001b[0;32melif\u001b[0m \u001b[0mkey_is_scalar\u001b[0m\u001b[0;34m:\u001b[0m\u001b[0;34m\u001b[0m\u001b[0;34m\u001b[0m\u001b[0m\n\u001b[0;32m--> 853\u001b[0;31m             \u001b[0;32mreturn\u001b[0m \u001b[0mself\u001b[0m\u001b[0;34m.\u001b[0m\u001b[0m_get_value\u001b[0m\u001b[0;34m(\u001b[0m\u001b[0mkey\u001b[0m\u001b[0;34m)\u001b[0m\u001b[0;34m\u001b[0m\u001b[0;34m\u001b[0m\u001b[0m\n\u001b[0m\u001b[1;32m    854\u001b[0m \u001b[0;34m\u001b[0m\u001b[0m\n\u001b[1;32m    855\u001b[0m         \u001b[0;32mif\u001b[0m \u001b[0mis_hashable\u001b[0m\u001b[0;34m(\u001b[0m\u001b[0mkey\u001b[0m\u001b[0;34m)\u001b[0m\u001b[0;34m:\u001b[0m\u001b[0;34m\u001b[0m\u001b[0;34m\u001b[0m\u001b[0m\n",
      "\u001b[0;32m~/opt/miniconda3/envs/freelance/lib/python3.7/site-packages/pandas/core/series.py\u001b[0m in \u001b[0;36m_get_value\u001b[0;34m(self, label, takeable)\u001b[0m\n\u001b[1;32m    959\u001b[0m \u001b[0;34m\u001b[0m\u001b[0m\n\u001b[1;32m    960\u001b[0m         \u001b[0;31m# Similar to Index.get_value, but we do not fall back to positional\u001b[0m\u001b[0;34m\u001b[0m\u001b[0;34m\u001b[0m\u001b[0;34m\u001b[0m\u001b[0m\n\u001b[0;32m--> 961\u001b[0;31m         \u001b[0mloc\u001b[0m \u001b[0;34m=\u001b[0m \u001b[0mself\u001b[0m\u001b[0;34m.\u001b[0m\u001b[0mindex\u001b[0m\u001b[0;34m.\u001b[0m\u001b[0mget_loc\u001b[0m\u001b[0;34m(\u001b[0m\u001b[0mlabel\u001b[0m\u001b[0;34m)\u001b[0m\u001b[0;34m\u001b[0m\u001b[0;34m\u001b[0m\u001b[0m\n\u001b[0m\u001b[1;32m    962\u001b[0m         \u001b[0;32mreturn\u001b[0m \u001b[0mself\u001b[0m\u001b[0;34m.\u001b[0m\u001b[0mindex\u001b[0m\u001b[0;34m.\u001b[0m\u001b[0m_get_values_for_loc\u001b[0m\u001b[0;34m(\u001b[0m\u001b[0mself\u001b[0m\u001b[0;34m,\u001b[0m \u001b[0mloc\u001b[0m\u001b[0;34m,\u001b[0m \u001b[0mlabel\u001b[0m\u001b[0;34m)\u001b[0m\u001b[0;34m\u001b[0m\u001b[0;34m\u001b[0m\u001b[0m\n\u001b[1;32m    963\u001b[0m \u001b[0;34m\u001b[0m\u001b[0m\n",
      "\u001b[0;32m~/opt/miniconda3/envs/freelance/lib/python3.7/site-packages/pandas/core/indexes/base.py\u001b[0m in \u001b[0;36mget_loc\u001b[0;34m(self, key, method, tolerance)\u001b[0m\n\u001b[1;32m   3080\u001b[0m                 \u001b[0;32mreturn\u001b[0m \u001b[0mself\u001b[0m\u001b[0;34m.\u001b[0m\u001b[0m_engine\u001b[0m\u001b[0;34m.\u001b[0m\u001b[0mget_loc\u001b[0m\u001b[0;34m(\u001b[0m\u001b[0mcasted_key\u001b[0m\u001b[0;34m)\u001b[0m\u001b[0;34m\u001b[0m\u001b[0;34m\u001b[0m\u001b[0m\n\u001b[1;32m   3081\u001b[0m             \u001b[0;32mexcept\u001b[0m \u001b[0mKeyError\u001b[0m \u001b[0;32mas\u001b[0m \u001b[0merr\u001b[0m\u001b[0;34m:\u001b[0m\u001b[0;34m\u001b[0m\u001b[0;34m\u001b[0m\u001b[0m\n\u001b[0;32m-> 3082\u001b[0;31m                 \u001b[0;32mraise\u001b[0m \u001b[0mKeyError\u001b[0m\u001b[0;34m(\u001b[0m\u001b[0mkey\u001b[0m\u001b[0;34m)\u001b[0m \u001b[0;32mfrom\u001b[0m \u001b[0merr\u001b[0m\u001b[0;34m\u001b[0m\u001b[0;34m\u001b[0m\u001b[0m\n\u001b[0m\u001b[1;32m   3083\u001b[0m \u001b[0;34m\u001b[0m\u001b[0m\n\u001b[1;32m   3084\u001b[0m         \u001b[0;32mif\u001b[0m \u001b[0mtolerance\u001b[0m \u001b[0;32mis\u001b[0m \u001b[0;32mnot\u001b[0m \u001b[0;32mNone\u001b[0m\u001b[0;34m:\u001b[0m\u001b[0;34m\u001b[0m\u001b[0;34m\u001b[0m\u001b[0m\n",
      "\u001b[0;31mKeyError\u001b[0m: 0"
     ]
    }
   ],
   "source": [
    "import streamlit as st\n",
    "import pandas as pd\n",
    "import numpy as np\n",
    "import pickle\n",
    "import matplotlib.pyplot as plt\n",
    "import seaborn as sns\n",
    "from bs4 import BeautifulSoup\n",
    "import requests\n",
    "from time import sleep\n",
    "from random import randint\n",
    "\n",
    "df_list = pd.read_excel('list_hotel.xlsx')\n",
    "model = pickle.load(open('model.pkl', 'rb'))\n",
    "\n",
    "nama_hotel = 'melia bali'\n",
    "\n",
    "if nama_hotel:\n",
    "    url_split = df_list[df_list['nama']==nama_hotel]['link'][0].split('-')\n",
    "    pages = np.arange(5, 111, 1)  \n",
    "    Name = []\n",
    "    Title = []\n",
    "    Review = []\n",
    "    Dates=[]\n",
    "\n",
    "    for page in pages:\n",
    "        url = '-'.join([url_split[0], url_split[1], url_split[2], url_split[3], f'or{page}', url_split[4], url_split[5]])    # import the Url details to Python\n",
    "        req = requests.get(url, headers={'User-Agent': 'Mozilla/5.0'})\n",
    "        html = req.content\n",
    "        # Put it in soup\n",
    "        sleep(randint(1, 2))  \n",
    "        soup = BeautifulSoup(html, 'html.parser')\n",
    "        # for loop to extract Customer Names\n",
    "        for a in soup.find_all('a', class_='ui_header_link bPvDb'):\n",
    "            Name.append(a.get_text(strip=True))\n",
    "        # for loop to extract Review Title\n",
    "        for a in soup.find_all('a', class_='fCitC'):\n",
    "            Title.append(a.get_text(strip=True))\n",
    "        # for loop to extract Reviews\n",
    "        for a in soup.find_all('q', class_='XllAv H4 _a'):\n",
    "            Review.append(a.get_text())\n",
    "        for a in soup.findAll('div',{'class':'bcaHz'}):\n",
    "            Dates.append(a.span.text.strip()) \n",
    "\n",
    "    for i in range(len(Dates)):\n",
    "        d = Dates[i]\n",
    "        Dates[i]= d[-8:]\n",
    "\n",
    "    df = pd.DataFrame({'Customer_name':Name,'Date': Dates, 'Review_Title':Title,'Review':Review})\n",
    "\n",
    "    def to_month(date):\n",
    "        date = date.split(' ')\n",
    "        month = date[0]\n",
    "        year = date[1]\n",
    "        if month == 'Mei':\n",
    "            return ' '.join(['May', year])\n",
    "        elif month == 'Agu':\n",
    "            return ' '.join(['Aug', year])\n",
    "        elif month == 'Okt':\n",
    "            return ' '.join(['Oct', year])\n",
    "        elif month == 'Des':\n",
    "            return ' '.join(['Dec', year])\n",
    "        elif month == 'rin':\n",
    "            return np.nan\n",
    "        else:\n",
    "            return ' '.join([month, year])\n",
    "\n",
    "    df['Date'] = pd.to_datetime(df['Date'].apply(to_month)).dt.strftime('%m-%Y')\n",
    "    df.dropna(inplace=True)\n",
    "\n",
    "    df['Sentimens'] = model.predict(df.Review)\n",
    "\n",
    "    data_neg = [len(df[df['Sentimens']=='Negative']), len(df)-len(df[df['Sentimens']=='Negative'])]\n",
    "    data_pos = [len(df[df['Sentimens']=='Positive']), len(df)-len(df[df['Sentimens']=='Positive'])]\n",
    "    labels_neg = ['Negative', ' ']\n",
    "    labels_pos = ['Positive', ' ']\n",
    "    colors = sns.color_palette('pastel')[0:2]\n",
    "    fig1, ax = plt.subplots(1, 2, figsize=(10, 4))\n",
    "    ax[0].pie(data_pos, labels = labels_pos, colors = colors, autopct='%.0f%%')\n",
    "    centre_circle = plt.Circle((0,0),0.50,fc='white')\n",
    "    ax[0].add_artist(centre_circle)\n",
    "    ax[1].pie(data_neg, labels = labels_neg, colors = colors, autopct='%.0f%%')\n",
    "    centre_circle = plt.Circle((0,0),0.50,fc='white')\n",
    "    ax[1].add_artist(centre_circle)\n",
    "#     st.pyplot(fig1)\n",
    "\n",
    "    pos_tot = []\n",
    "    neg_tot = []\n",
    "    for i, j in df.groupby('Date'):\n",
    "        pos_tot.append(len(j[j['Sentimens']=='Positive']))\n",
    "        neg_tot.append(len(j[j['Sentimens']=='Negative']))\n",
    "\n",
    "    fig2, ax = plt.subplots(figsize=(10, 4))\n",
    "    ax.plot(df.Date.unique(), pos_tot, label='Positive', color='blue')\n",
    "    ax.plot(df.Date.unique(), neg_tot, label='Negative', color='red')\n",
    "    ax.legend()\n",
    "    plt.setp(ax.get_xticklabels(), rotation=70, horizontalalignment='right')\n",
    "#     st.pyplot(fig2)\n",
    "#     st.dataframe(df)\n"
   ]
  },
  {
   "cell_type": "code",
   "execution_count": 26,
   "metadata": {},
   "outputs": [
    {
     "data": {
      "text/plain": [
       "['https://www.tripadvisor.co.id/Hotel_Review',\n",
       " 'g297698',\n",
       " 'd5039960',\n",
       " 'Reviews',\n",
       " 'Sofitel_Bali_Nusa_Dua_Beach_Resort',\n",
       " 'Nusa_Dua_Nusa_Dua_Peninsula_Bali.html']"
      ]
     },
     "execution_count": 26,
     "metadata": {},
     "output_type": "execute_result"
    }
   ],
   "source": [
    "nama_hotel = 'sofitel'\n",
    "df_list[df_list['nama'] == nama_hotel]['link'].values[0].split('-')"
   ]
  },
  {
   "cell_type": "code",
   "execution_count": null,
   "metadata": {},
   "outputs": [],
   "source": []
  }
 ],
 "metadata": {
  "colab": {
   "collapsed_sections": [
    "eyORlTQPjkq2",
    "0nip3RGHgur6"
   ],
   "name": "Copy of Skripsi.ipynb",
   "provenance": []
  },
  "kernelspec": {
   "display_name": "Python 3",
   "language": "python",
   "name": "python3"
  },
  "language_info": {
   "codemirror_mode": {
    "name": "ipython",
    "version": 3
   },
   "file_extension": ".py",
   "mimetype": "text/x-python",
   "name": "python",
   "nbconvert_exporter": "python",
   "pygments_lexer": "ipython3",
   "version": "3.7.6"
  }
 },
 "nbformat": 4,
 "nbformat_minor": 1
}
